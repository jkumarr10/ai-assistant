{
 "cells": [
  {
   "cell_type": "code",
   "execution_count": 1,
   "metadata": {},
   "outputs": [],
   "source": [
    "from langchain_community.document_loaders import PyPDFLoader\n",
    "from langchain_openai import ChatOpenAI\n",
    "from langchain_chroma import Chroma\n",
    "from langchain_core.output_parsers import StrOutputParser\n",
    "from langchain_core.runnables import RunnablePassthrough\n",
    "from langchain_openai import OpenAIEmbeddings\n",
    "from langchain_text_splitters import RecursiveCharacterTextSplitter\n",
    "from langchain.prompts import ChatPromptTemplate\n",
    "from dotenv import load_dotenv\n",
    "\n",
    "from fastapi import FastAPI, HTTPException\n",
    "import uvicorn\n",
    "import nest_asyncio\n",
    "import asyncio"
   ]
  },
  {
   "cell_type": "code",
   "execution_count": 2,
   "metadata": {},
   "outputs": [],
   "source": [
    "nest_asyncio.apply()"
   ]
  },
  {
   "cell_type": "code",
   "execution_count": 3,
   "metadata": {},
   "outputs": [],
   "source": [
    "# Create an instance of FastAPI\n",
    "app = FastAPI()\n"
   ]
  },
  {
   "cell_type": "code",
   "execution_count": 4,
   "metadata": {},
   "outputs": [
    {
     "data": {
      "text/plain": [
       "True"
      ]
     },
     "execution_count": 4,
     "metadata": {},
     "output_type": "execute_result"
    }
   ],
   "source": [
    "load_dotenv()"
   ]
  },
  {
   "cell_type": "code",
   "execution_count": 5,
   "metadata": {},
   "outputs": [],
   "source": [
    "llm = ChatOpenAI(model='gpt-4o-mini', temperature=0)"
   ]
  },
  {
   "cell_type": "markdown",
   "metadata": {},
   "source": [
    "# Assignment Part 1"
   ]
  },
  {
   "cell_type": "markdown",
   "metadata": {},
   "source": [
    "## Set Up RAG Pipeline"
   ]
  },
  {
   "cell_type": "markdown",
   "metadata": {},
   "source": [
    "### Step 1: Load Documentation"
   ]
  },
  {
   "cell_type": "code",
   "execution_count": 6,
   "metadata": {},
   "outputs": [
    {
     "data": {
      "text/plain": [
       "[Document(metadata={'source': 'iesc111.pdf', 'page': 0}, page_content='Everyday we hear sounds from various\\nsources like humans, bir ds, bells, machines,\\nvehicles, televisions, radios etc. Sound is a\\nform of ener gy which pr oduces a sensation\\nof hearing in our ears. Ther e are also other\\nforms of energy like mechanical energy, light\\nenergy, etc. W e have talked about mechanical\\nenergy in the pr evious chapters. Y ou have\\nbeen taught about conservation of energy,\\nwhich states that we can neither create nor\\ndestr oy ener gy. W e  can just change it fr om\\none for m to another . When you clap, a sound\\nis produced. Can you produce sound without\\nutilising your energy? Which form of energy\\ndid you use to produce sound? In this\\nchapter we are going to learn how sound is\\nproduced and how it is transmitted through\\na medium and received by our ears.\\n11.1 Production of Sound\\nActivity _____________ 11.1\\n•Take a tuning fork and set it vibrating\\nby striking its pr ong on a rubber pad.\\nBring it near your ear .\\n•Do you hear any sound?\\n•Touch one of the pr ongs of the vibrating\\ntuning fork with your finger and shar e\\nyour experience with your friends.\\n•Now, suspend a table tennis ball or a\\nsmall plastic ball by a thr ead fr om a\\nsupport [T ake a big needle and a\\nthread, put a knot at one end of the\\nthread, and then with the help of the\\nneedle pass the thr ead thr ough the\\nball]. T ouch the ball gently with the\\nprong of a vibrating tuning\\nfork (Fig. 11.1).\\n•Observe what happens and discuss\\nwith your friends.Activity _____________ 11.2\\n•Fill water in a beaker or a glass up to\\nthe brim. Gently touch the water sur face\\nwith one of the pr ongs of the vibrating\\ntuning fork, as shown in Fig. 1 1.2.\\n•Next dip the pr ongs of the vibrating\\ntuning fork in water , as shown in Fig.\\n11.3.\\n•Observe what happens in both the\\ncases.\\n•Discuss with your friends why this\\nhappens.Fig. 11.1:  Vibrating tuning fork just touching the\\nsuspended table tennis ball.\\nFig. 11.2:   One of the prongs of the vibrating tuning\\nfork touching the water sur face.11\\nSSS\\nSSOUND OUNDOUND OUNDOUNDChapter\\nRationalised 2023-24'),\n",
       " Document(metadata={'source': 'iesc111.pdf', 'page': 1}, page_content='SCIENCE 128the vibrating object to the ear . A particle of\\nthe medium in contact with the vibrating\\nobject is first displaced fr om its equilibrium\\nposition. It then exerts a for ce on the adjacent\\nparticle. As a r esult of which the adjacent\\nparticle gets displaced fr om its position of\\nrest. After displacing the adjacent particle the\\nfirst particle comes back to its original\\nposition. This pr ocess continues in the\\nmedium till the sound r eaches your ear . The\\ndisturbance created by a source of  sound in\\nthe medium travels through the medium and\\nnot the particles of the medium.\\nA wave is a disturbance that moves\\nthrough a medium when the particles of the\\nmedium set neighbouring particles into\\nmotion. They in tur n produce similar motion\\nin others. The particles of the medium do not\\nmove forwar d themselves, but the\\ndisturbance is carried forwar d. This is what\\nhappens during pr opagation of sound in a\\nmedium, hence sound can be visualised as a\\nwave. Sound waves are characterised by the\\nmotion of particles in the medium and ar e\\ncalled mechanical waves.\\nAir is the most common medium thr ough\\nwhich sound travels. When a vibrating object\\nmoves forward, it pushes and compresses the\\nair in front of it creating a region of high\\npressur e. This r egion is called a compr ession\\n(C), as shown in Fig. 11.4. This compression\\nstarts to move away from the vibrating object.\\nWhen the vibrating object moves backwar ds,\\nit creates a r egion of low pr essur e called\\nrarefaction (R), as shown in Fig. 11.4. As the\\nobject moves back and forth rapidly, a series\\nof compressions and rarefactions is created in\\nthe air . These make the sound wave thatFig. 11.3: Both the prongs of the vibrating tuning\\nfork dipped in water\\nFrom the above activities what do you\\nconclude? Can you pr oduce sound without\\na vibrating object?\\nIn the above activities we have pr oduced\\nsound by striking the tuning fork. W e can\\nalso pr oduce sound by plucking, scratching,\\nrubbing, blowing or shaking dif ferent objects.\\nAs per the above activities what do we do to\\nthe objects? W e set the objects vibrating and\\nproduce sound. V ibration means a kind of\\nrapid to and fr o motion of an object. The\\nsound of the human voice is pr oduced due\\nto vibrations in the vocal cor ds. When a bir d\\nflaps its wings, do you hear any sound? Think\\nhow the buzzing sound accompanying a bee\\nis produced. A str etched rubber band when\\nplucked vibrates and produces sound. If you\\nhave never done this, then do it and observe\\nthe vibration of the str etched rubber band.\\nActivity _____________ 11.3\\n•Make a list of different types of\\nmusical instruments and discuss\\nwith your friends which part of the\\ninstrument vibrates to produce\\nsound.\\n11.2Propagation of Sound\\nSound is pr oduced by vibrating objects. The\\nmatter or substance thr ough which sound\\nis transmitted is called a medium. It can be\\nsolid, liquid or gas. Sound moves thr ough a\\nmedium from the point of generation to the\\nlistener . When an object vibrates, it sets the\\nparticles of the medium ar ound it vibrating.\\nThe particles do not travel all the way fromFig. 11.4: A vibrating object creating a series of\\ncompr essions (C) and rar efactions (R) in\\nthe medium.\\nRationalised 2023-24'),\n",
       " Document(metadata={'source': 'iesc111.pdf', 'page': 2}, page_content='SOUND 129propagates through the medium.\\nCompr ession is the r egion of high pr essur e\\nand rar efaction is the r egion of low pr essur e.\\nPressur e is related to the number of particles\\nof a medium in a given volume. Mor e density\\nof the particles in the medium gives mor e\\npressur e and vice versa. Thus, pr opagation\\nof sound can be visualised as pr opagation of\\ndensity variations or pr essur e variations in\\nthe medium.\\nuestion\\n1.How does the sound produced by\\na vibrating object in a medium\\nreach your ear?\\n2.Explain how sound is produced\\nby your school bell.\\n3.Why are sound waves called\\nmechanical waves?\\n4.Suppose you and your friend are\\non the moon. W ill you be able to\\nhear any sound pr oduced by\\nyour friend?\\n11.2.1 SOUND  WAVES  ARE LONGITUDINAL\\nWAVES\\nActivity _____________ 11.4\\n•Take a slinky.  Ask your friend to hold\\none end. Y ou hold the other end.\\nNow str etch the slinky as shown in\\nFig. 11.5(a). Then give it a sharp push\\ntowards your friend.\\n•What do you notice? If you move your\\nhand pushing and pulling the slinky\\nalternatively, what will you observe?\\n•If you mark a dot on the slinky, you\\nwill observe that the dot on the slinky\\nwill move back and forth parallel to\\nthe direction of the propagation of the\\ndisturbance.The regions where the coils become closer\\nare called compressions (C) and the regions\\nwhere the coils are further apart are called\\nrarefactions (R). As we already know, sound\\npropagates in the medium as a series of\\ncompressions and rarefactions. Now, we can\\ncompare the propagation of disturbance in a\\nslinky with the sound propagation in the\\nmedium. These waves are called longitudinal\\nwaves. In these waves the individual particles\\nof the medium move in a direction parallel to\\nthe direction of propagation of the disturbance.\\nThe particles do not move from one place to\\nanother but they simply oscillate back and\\nforth about their position of rest. This is\\nexactly how a sound wave propagates, hence\\nsound waves are longitudinal waves.\\nThere is also another type of wave, called\\na transverse wave. In a transverse wave\\nparticles do not oscillate along the direction\\nof wave propagation but oscillate up and down\\nabout their mean position as the wave travels.\\nThus, a transverse wave is the one in which\\nthe individual particles of the medium move\\nabout their mean positions in a direction\\nperpendicular to the direction of wave\\npropagation. When we drop a pebble in a\\npond, the waves you see on the water surface\\nis an example of transverse wave. Light is a\\ntransverse wave but for light, the oscillations\\nare not of the medium particles or their\\npressure or density— it is not a mechanical\\nwave. Y ou will come to know mor e about\\ntransverse waves in higher classes.\\n11.2.2 CHARACTERISTICS  OF A SOUND\\nWAVE\\nWe can describe a sound wave by its\\n•frequency\\n•amplitude and\\n•speed.Q\\nA sound wave in graphic form is shown in\\nFig. 11.6(c), which represents how density and\\npressure change when the sound wave moves\\nin the medium. The density as well as the\\npressure of the medium at a given time varies\\nwith distance, above and below the average\\nvalue of density and pressure. Fig. 11.6(a) and(b)(a)\\nFig. 11.5:  Longitudinal wave in a slinky.\\nRationalised 2023-24'),\n",
       " Document(metadata={'source': 'iesc111.pdf', 'page': 3}, page_content='SCIENCE 130Heinrich Rudolph Hertz\\nwas born on 22 February\\n1857 in Hamburg,\\nGermany and educated at\\nthe University of Berlin. He\\nconfirmed J.C. Maxwell’s\\nelectromagnetic theory by\\nhis experiments. He laid the\\nfoundation for future\\ndevelopment of radio, telephone, telegraph\\nand even television. He also discovered the\\nphotoelectric effect which was later\\nexplained by Albert Einstein. The SI unit of\\nfrequency was named as hertz in his honour .Fig. 11.6(b) represent the density and\\npressure variations, respectively, as a sound\\nwave propagates in the medium.\\nCompressions are the regions where\\nparticles are crowded together and\\nrepresented by the upper portion of the curve\\nin Fig. 11.6(c). The peak represents the region\\nof maximum compression. Thus,\\ncompressions are regions where density as\\nwell as pressure is high. Rarefactions are the\\nregions of low pressure where particles are\\nspread apart and are represented by the\\nvalley, that is, the lower portion of the curve\\nin Fig. 11.6(c). A peak is called the crest and a\\nvalley is called the trough of a wave.\\nThe distance between two consecutive\\ncompressions (C) or two consecutive\\nrarefactions (R) is called the wavelength, as\\nshown in Fig. 11.6(c), The wavelength is\\nusually represented by λ (Greek letter\\nlambda). Its SI unit is metre (m).\\nH. R. Hertz\\nFig. 11.6: Sound propagates as density or pressure variations as shown in (a) and (b), (c) represents\\ngraphically the density and pr essur e variations.Frequency tells us how frequently an\\nevent occurs. Suppose you are beating a\\ndrum. How many times you are beating the\\ndrum in unit time is called the frequency of\\nyour beating the drum. W e know that when\\nsound is propagated through a medium, the\\nRationalised 2023-24'),\n",
       " Document(metadata={'source': 'iesc111.pdf', 'page': 4}, page_content='SOUND 131How the brain interprets the frequency\\nof an emitted sound is called its pitch. The\\nfaster the vibration of the source, the\\nhigher is the frequency and the higher is\\nthe pitch, as shown in Fig. 11.7. Thus, a\\nhigh pitch sound corresponds to more\\nnumber of compressions and rarefactions\\npassing a fixed point per unit time.\\nObjects of different sizes and conditions\\nvibrate at different frequencies to produce\\nsounds of different pitch.\\nThe magnitude of the maximum\\ndisturbance in the medium on either side of\\nthe mean value is called the amplitude of the\\nwave. It is usually represented by the letter A,as shown in Fig. 11.6(c). For sound its unit\\nwill be that of density or pressure.\\nThe loudness or softness of a sound is\\ndetermined basically by its amplitude. The\\namplitude of the sound wave depends upon\\nthe force with which an object is made to\\nvibrate. If we strike a table lightly, we hear a\\nsoft sound because we produce a sound wavedensity of the medium oscillates between a\\nmaximum value and a minimum value. The\\nchange in density from the maximum value\\nto the minimum value, then again to the\\nmaximum value, makes one complete\\noscillation. The number of such oscillations\\nper unit time is the frequency of the sound\\nwave. If we can count the number of the\\ncompressions or rarefactions that cross us\\nper unit time, we will get the frequency of\\nthe sound wave. It is usually represented by\\nν (Greek letter , nu). Its SI unit is hertz\\n(symbol, Hz).\\nThe time taken by two consecutive\\ncompressions or rarefactions to cross a fixed\\npoint is called the time period of the wave. In\\nother words, we can say that the time taken\\nfor one complete oscillation is called the time\\nperiod of the sound wave. It is represented by\\nthe symbol T. Its SI unit is second (s).\\nFrequency and time period are related as\\nfollows:\\n A violin and a flute may both be played at\\nthe same time in an orchestra. Both sounds\\ntravel through the same medium, that is, air\\nand arrive at our ear at the same time. Both\\nsounds travel at the same speed irrespective\\nof the source. But the sounds we receive are\\ndifferent. This is due to the different\\ncharacteristics associated with the sound.\\nPitch is one of the characteristics.=1vTFig. 11.7:  Low pitch sound has low frequency and\\nhigh pitch of sound has high frequency.\\nFig. 11.8: Soft sound has small amplitude and\\nlouder sound has large amplitude.\\nRationalised 2023-24'),\n",
       " Document(metadata={'source': 'iesc111.pdf', 'page': 5}, page_content='SCIENCE 132QQuestions\\n1.Which wave property determines\\n(a) loudness, (b) pitch?\\n2.Guess which sound has a higher\\npitch: guitar or car horn?\\nThe speed of sound is defined as the\\ndistance which a point on a wave, such as a\\ncompression or a rarefaction, travels per unit\\ntime.\\nWe know,\\nspeed, v = distance / time\\n= λ\\nTExample 11.1 A sound wave has a\\nfrequency of 2 kHz and wave length\\n35 cm. How long will it take to travel\\n1.5 km?\\nSolution:\\nGiven,\\nFrequency, ν = 2 kHz = 2000 Hz\\nWavelength, λ = 35 cm = 0.35 m\\nWe know that speed, v of the wave\\n= wavelength × frequency\\nv= λ ν\\n= 0.35 m  2000 Hz = 700 m/s\\nThe time taken by the wave to travel a\\ndistance, d of 1.5 km is\\nThus sound will take 2.1 s to travel a\\ndistance of 1.5 km.\\nuestions\\n1.What ar e wavelength, fr equency,\\ntime period and amplitude of a\\nsound wave?\\n2.How are the wavelength and\\nfrequency of a sound wave\\nrelated to its speed?\\n3.Calculate the wavelength of a\\nsound wave whose fr equency is\\n220 Hz and speed is 440 m/s  in\\na given medium.\\n4.A person is listening to a tone of\\n500 Hz sitting at a distance of\\n450 m from the source of the\\nsound. What is the time interval\\nbetween successive compr essions\\nfrom the source?\\nThe amount of sound energy passing each\\nsecond through unit area is called the intensity\\nof sound. W e sometimes use the ter ms\\n“loudness” and “intensity” interchangeably,\\nbut they are not the same. Loudness is a\\nmeasure of the response of the ear to the sound.\\nEven when two sounds are of equal intensity,\\nwe may hear one as louder than the other\\nsimply because our ear detects it better .of less energy (amplitude). If we hit the table\\nhard we hear a louder sound. Can you tell\\nwhy? A sound wave spreads out from its\\nsource. As it moves away from the source its\\namplitude as well as its loudness decreases.\\nLouder sound can travel a larger distance as\\nit is associated with higher energy. Fig. 11.8\\nshows the wave shapes of a loud and a soft\\nsound of the same frequency.\\nThe quality or timber of sound is that\\ncharacteristic which enables us to distinguish\\none sound from another having the same pitch\\nand loudness. The sound which is more\\npleasant is said to be of a rich quality. A sound\\nof single frequency is called a tone. The sound\\nwhich is produced due to a mixture of several\\nfrequencies is called a note and is pleasant to\\nlisten to. Noise is unpleasant to the ear! Music\\nis pleasant to hear and is of rich quality.\\nHere λ is the wavelength of the sound wave. It\\nis the distance travelled by the sound wave in\\none time period ( T) of the wave. Thus,\\nv = λ ν \\nor v = λ ν\\nThat is, speed = wavelength × frequency.\\nThe speed of sound remains almost the\\nsame for all frequencies in a given medium\\nunder the same physical conditions.\\nRationalised 2023-24'),\n",
       " Document(metadata={'source': 'iesc111.pdf', 'page': 6}, page_content='SOUND 133uestion\\n1.Distinguish between loudness\\nand intensity of sound.uestion\\n1.In which of the thr ee media, air ,\\nwater or iron, does sound travel\\nthe fastest at a particular\\ntemperature?\\n11.3 Reflection of Sound\\nSound bounces off a solid or a liquid like a\\nrubber ball bounces off a wall. Like light, sound\\ngets reflected at the surface of a solid or liquid\\nand follows the same laws of reflection as you\\nhave studied in earlier classes. The directions\\nin which the sound is incident and is reflected\\nmake equal angles with the normal to the\\nreflecting surface at the point of incidence, and\\nthe three are in the same plane. An obstacle of\\nlarge size which may be polished or rough is\\nneeded for the reflection of sound waves.\\nActivity _____________ 11.5\\n•Take two identical pipes, as shown in\\nFig. 11.9. Y ou can make the pipes\\nusing chart paper . The length of the\\npipes should be sufficiently long\\nas shown.\\n•Arrange them on a table near a wall.\\n•Keep a clock near the open end of one\\nof the pipes and try to hear the sound\\nof the clock through the other pipe.\\n•Adjust the position of the pipes so\\nthat you can best hear the sound of\\nthe clock.\\n•Now, measure the angles of incidence\\nand reflection and see the\\nrelationship between the angles.\\n•Lift the pipe on the right vertically\\nto a small height and observe\\nwhat happens.\\n(In place of a clock, a mobile phone\\non vibrating mode may also be used.)QQ\\n11.2.3 SPEED OF SOUND  IN DIFFERENT\\nMEDIA\\nSound propagates through a medium at a finite\\nspeed. The sound of a thunder is heard  a little\\nlater than the flash of light is seen. So, we can\\nmake out that sound travels with a speed\\nwhich is much less than the speed of light. The\\nspeed of sound depends on the properties of\\nthe medium thr ough which it travels. Y ou will\\nlearn about this dependence in higher classes.\\nThe speed of sound in a medium depends on\\ntemperature of the medium. The speed of\\nsound decreases when we go from solid to\\ngaseous state. In any medium as we increase\\nthe temperature, the speed of sound increases.\\nFor example, the speed of sound in air is 331\\nm s–1 at 0 ºC and 344 m s–1 at 22 ºC. The speeds\\nof sound at a particular temperature in various\\nmedia ar e listed in T able 11.1. Y ou need not\\nmemorise the values.\\nTable 11.1: Speed of sound in\\ndifferent media at 25 ºC\\nState Substance Speed in m/s\\nSolids Aluminium 6420\\nNickel 6040\\nSteel 5960\\nIron 5950\\nBrass 4700\\nGlass (Flint) 3980\\nLiquids Water (Sea) 1531\\nWater (distilled) 1498\\nEthanol 1207\\nMethanol 1103\\nGases Hydrogen 1284\\nHelium 965\\nAir 346\\nOxygen 316\\nSulphur dioxide 213Fig. 11.9:  Reflection of sound\\nRationalised 2023-24'),\n",
       " Document(metadata={'source': 'iesc111.pdf', 'page': 7}, page_content='SCIENCE 13411.3.1 ECHO\\nIf we shout or clap near a suitable reflecting\\nobject such as a tall building or a\\nmountain,we will hear the same sound\\nagain a little  later . This sound which we\\nhear is called an echo. The sensation of\\nsound persists in our brain for about 0.1\\ns. To hear a distinct echo the time interval\\nbetween the original sound and the\\nreflected one must be  at least 0.1s. If we\\ntake the speed of sound to be 344 m/s at a\\ngiven temperatur e, say at 22 ºC in air , the\\nsound must go to the obstacle and reach\\nback the ear of the listener on reflection after\\n0.1s. Hence, the total distance covered by\\nthe sound from the point of generation to\\nthe reflecting surface and back should be\\nat least (344 m/s) × 0.1 s = 34.4 m. Thus,\\nfor hearing distinct echoes, the minimum\\ndistance of the obstacle from the source of\\nsound must be half of this distance, that\\nis, 17.2 m. This distance will change with\\nthe temperatur e of air . Echoes may be hear d\\nmore than once due to successive or\\nmultiple reflections. The rolling of thunder\\nis due to the successive reflections of the\\nsound from a number of reflecting surfaces,\\nsuch as the clouds and the land.\\n11.3.2 REVERBERATION\\nA sound created in a big hall will persist\\nby repeated reflection from the walls until\\nit is reduced to a value where it is no longer\\naudible. The repeated reflection that\\nresults in this persistence of sound is\\ncalled reverberation. In an auditorium or\\nbig hall excessive reverberation is highly\\nundesirable. To reduce reverberation, the\\nroof and walls of the auditorium are\\ngenerally covered with sound-absorbent\\nmaterials like compressed fibreboard,\\nrough plaster or draperies. The seat\\nmaterials are also selected on the basis of\\ntheir sound absorbing properties.\\nExample 11.2  A person clapped his hands\\nnear a cliff and heard the echo after 2 s.What is the distance of the cliff from the\\nperson if the speed of the sound, v is\\ntaken as 346 m s–1?\\nSolution:\\nGiven,\\nSpeed of sound, v = 346 m s–1\\nTime taken for hearing the echo,\\nt = 2 s\\nDistance travelled by the sound\\n= v × t = 346 m s–1 × 2 s = 692 m\\nIn 2 s sound has to travel twice the\\ndistance between the cliff and the\\nperson. Hence, the distance between the\\ncliff and the person\\n= 692 m/2 = 346 m.\\nQ\\nHorn\\nMegaphone\\nFig 11.10:   A megaphone and a horn.uestion\\n1.An echo is heard in 3 s. What is\\nthe distance of the reflecting\\nsurface from the source, given that\\nthe speed of sound is  342  m s–1?\\n11.3.3 USES OF MULTIPLE  REFLECTION\\nOF SOUND\\n1.Megaphones or loudhailers, horns,\\nmusical instruments such as trumpets\\nand shehanais , are all designed to send\\nsound in a particular direction without\\nspreading it in all directions, as shown\\nin Fig 11.10.\\nRationalised 2023-24'),\n",
       " Document(metadata={'source': 'iesc111.pdf', 'page': 8}, page_content='SOUND 1352.Stethoscope is a medical instrument\\nused for listening to sounds produced\\nwithin the body, mainly in the heart or\\nlungs. In stethoscopes the sound of the\\npatient’s heartbeat reaches the doctor’s\\nears by multiple reflection of sound, as\\nshown in Fig.11.11.\\nFig. 11.12:  Curved ceiling of a conference hall.Fig. 11.13:  Sound board used in a big hall.\\nuestion\\n1.Why are the ceilings of concert\\nhalls curved?\\n11.4Range of Hearing\\nThe audible range of sound for human beings\\nextends from about 20 Hz to 20000 Hz (one\\nHz = one cycle/s). Children under the age of\\nfive and some animals, such as dogs can hear\\nup to 25 kHz (1 kHz = 1000 Hz). As people\\ngrow older their ears become less sensitive to\\nhigher frequencies. Sounds of frequencies\\nbelow 20 Hz are called infrasonic sound or\\ninfrasound. If we could hear infrasound we\\nwould hear the vibrations of a pendulum just\\nas we hear the vibrations of the wings of a bee.\\nRhinoceroses communicate using infrasound\\nof frequency as low as 5 Hz. Whales and\\nelephants produce sound in the infrasound\\nrange. It is observed that some animals get\\ndisturbed before earthquakes. Earthquakes\\nproduce low-frequency infrasound before the\\nmain shock waves begin which possibly alert\\nthe animals. Frequencies higher than 20 kHz\\nare called ultrasonic sound or ultrasound.\\nUltrasound is produced by animals such as\\ndolphins, bats and porpoises. Moths of certain\\nfamilies have very sensitive hearing equipment.\\nThese moths can hear the high frequencyQ\\nFig.11.11:  Stethoscope\\n3.Generally the ceilings of concert halls,\\nconference halls and cinema halls are\\ncurved so that sound after reflection\\nreaches all corners of the hall, as\\nshown in Fig 1 1.12. Sometimes a\\ncurved soundboard may be placed\\nbehind the stage so that the sound,\\nafter reflecting from the sound board,\\nspreads evenly across the width of the\\nhall (Fig 1 1.13).In these instruments, a tube followed\\nby a conical opening reflects sound\\nsuccessively to guide most of the\\nsound waves from the source in the\\nforward direction towards the\\naudience.\\nRationalised 2023-24'),\n",
       " Document(metadata={'source': 'iesc111.pdf', 'page': 9}, page_content='SCIENCE 136squeaks of the bat and know when a bat\\nis flying nearby, and are able to escape\\ncapture. Rats also play games by\\nproducing ultrasound.\\nHearing Aid: People with hearing loss may\\nneed a hearing aid. A hearing aid is an\\nelectronic, battery operated device. The\\nhearing aid receives sound through a\\nmicrophone. The microphone converts the\\nsound waves to electrical signals. These\\nelectrical signals are amplified by an\\namplifier . The amplified electrical signals\\nare given to a speaker of the hearing aid.\\nThe speaker converts the amplified\\nelectrical signal to sound and sends to the\\near for clear hearing.in construction of big structures like\\nbuildings, bridges, machines and also\\nscientific equipment. The cracks or\\nholes inside the metal blocks, which\\nare invisible from outside reduces the\\nstrength of the structure. Ultrasonic\\nwaves are allowed to pass through the\\nmetal block and detectors are used to\\ndetect the transmitted waves. If there\\nis even a small defect, the ultrasound\\ngets reflected back indicating the\\npresence of the flaw or defect, as shown\\nin Fig. 11.14.\\nQ\\nMetallic components are generally useduestions\\n1.What is the audible range of the\\naverage human ear?\\n2.What is the range of frequencies\\nassociated with\\n(a)Infrasound?\\n(b)Ultrasound?\\n11.5Applications of Ultrasound\\nUltrasounds are high frequency waves.\\nUltrasounds are able to travel along well-\\ndefined paths even in the presence of\\nobstacles. Ultrasounds are used extensively\\nin industries and for medical purposes.\\n•Ultrasound is generally used to clean\\nparts located in hard-to-reach places,\\nfor example, spiral tube, odd shaped\\nparts, electronic components, etc.\\nObjects to be cleaned are placed in a\\ncleaning solution and ultrasonic waves\\nare sent into the solution. Due to\\nthe high frequency, the particles of\\ndust, grease and dirt get detached and\\ndrop out. The objects thus get\\nthoroughly cleaned.\\n•Ultrasounds can be used to detect\\ncracks and flaws in metal blocks.Fig 11.14:  Ultrasound is reflected back from the\\ndefective locations inside a metal block.\\nOrdinary sound of longer wavelengths\\ncannot be used for such purpose as it will\\nbend around the corners of the defective\\nlocation and enter the detector .\\n•Ultrasonic waves are made to reflect\\nfrom various parts of the heart and\\nform the image of the heart. This  tech-\\nnique is called ‘echocardiography’.\\n•Ultrasound scanner is an instrument\\nwhich uses ultrasonic waves for\\ngetting images of internal organs of the\\nhuman body. A doctor may image the\\npatient’s or gans, such as the liver , gall\\nbladder , uterus, kidney, etc. It helps\\nthe doctor to detect abnormalities,\\nsuch as stones in the gall bladder and\\nkidney or tumours in different organs.\\nIn this technique the ultrasonic waves\\ntravel through the tissues of the body\\nand get reflected from a region where\\nthere is a change of tissue density.\\nRationalised 2023-24'),\n",
       " Document(metadata={'source': 'iesc111.pdf', 'page': 10}, page_content='SCIENCE 136squeaks of the bat and know when a bat\\nis flying nearby, and are able to escape\\ncapture. Rats also play games by\\nproducing ultrasound.\\nHearing Aid:  People with hearing loss may\\nneed a hearing aid. A hearing aid is an\\nelectronic, battery operated device. The\\nhearing aid receives sound through a\\nmicrophone. The microphone converts the\\nsound waves to electrical signals. These\\nelectrical signals are amplified by an\\namplifier . The amplified electrical signals\\nare given to a speaker of the hearing aid.\\nThe speaker converts the amplified\\nelectrical signal to sound and sends to the\\near for clear hearing.in construction of big structures like\\nbuildings, bridges, machines and also\\nscientific equipment. The cracks or\\nholes inside the metal blocks, which\\nare invisible from outside reduces the\\nstrength of the structure. Ultrasonic\\nwaves are allowed to pass through the\\nmetal block and detectors are used to\\ndetect the transmitted waves. If there\\nis even a small defect, the ultrasound\\ngets reflected back indicating the\\npresence of the flaw or defect, as shown\\nin Fig. 11.14.\\nQ\\nMetallic components are generally useduestions\\n1.What is the audible range of the\\naverage human ear?\\n2.What is the range of frequencies\\nassociated with\\n(a)Infrasound?\\n(b)Ultrasound?\\n11.5Applications of Ultrasound\\nUltrasounds are high frequency waves.\\nUltrasounds are able to travel along well-\\ndefined paths even in the presence of\\nobstacles. Ultrasounds are used extensively\\nin industries and for medical purposes.\\n•Ultrasound is generally used to clean\\nparts located in hard-to-reach places,\\nfor example, spiral tube, odd shaped\\nparts, electronic components, etc.\\nObjects to be cleaned are placed in a\\ncleaning solution and ultrasonic waves\\nare sent into the solution. Due to\\nthe high frequency, the particles of\\ndust, grease and dirt get detached and\\ndrop out. The objects thus get\\nthoroughly cleaned.\\n•Ultrasounds can be used to detect\\ncracks and flaws in metal blocks.Fig 11.14:  Ultrasound is reflected back from the\\ndefective locations inside a metal block.\\nOrdinary sound of longer wavelengths\\ncannot be used for such purpose as it will\\nbend around the corners of the defective\\nlocation and enter the detector .\\n•Ultrasonic waves are made to reflect\\nfrom various parts of the heart and\\nform the image of the heart. This  tech-\\nnique is called ‘echocardiography’.\\n•Ultrasound scanner is an instrument\\nwhich uses ultrasonic waves for\\ngetting images of internal organs of the\\nhuman body. A doctor may image the\\npatient’s or gans, such as the liver , gall\\nbladder , uterus, kidney, etc. It helps\\nthe doctor to detect abnormalities,\\nsuch as stones in the gall bladder and\\nkidney or tumours in different organs.\\nIn this technique the ultrasonic waves\\ntravel through the tissues of the body\\nand get reflected from a region where\\nthere is a change of tissue density.\\nRationalised 2023-24'),\n",
       " Document(metadata={'source': 'iesc111.pdf', 'page': 11}, page_content='SOUND 137What\\nyou have\\nlearnt\\n• Sound is produced due to vibration of different objects.\\n• Sound travels as a longitudinal wave through a material\\nmedium.\\n• Sound travels as successive compressions and rarefactions\\nin the medium.\\n• In sound propagation, it is the energy of the sound that\\ntravels and not the particles of the medium.\\n• The change in density from one maximum value to the\\nminimum value and again to the maximum value makes\\none complete oscillation.\\n• The distance between two consecutive compressions or two\\nconsecutive rarefactions is called the wavelength, λ.\\n• The time taken by the wave for one complete oscillation of\\nthe density or pressure of the medium is called the time\\nperiod, T.\\n• The number of complete oscillations per unit time is called\\nthe frequency (ν ), 1=v.T\\n• The speed v, frequency ν, and wavelength λ, of sound are\\nrelated by the equation, v  = λν.\\n• The speed of sound depends primarily on the nature and\\nthe temperature of the transmitting medium.\\n• The law of reflection of sound states that the directions in\\nwhich the sound is incident and reflected make equal angles\\nwith the normal to the reflecting surface at the point of\\nincidence and the three lie in the same plane.\\n• For hearing a distinct sound, the time interval between the\\noriginal sound and the reflected one must be at least 0.1 s.\\n• The persistence of sound in an auditorium is the result of\\nrepeated reflections of sound and is called reverberation.These waves are then converted into\\nelectrical signals that are used to\\ngenerate images of the organ. These\\nimages are then displayed on a monitor\\nor printed on a film. This technique\\nis called ‘ultrasonography’.\\nUltrasonography is also used forexamination of the foetus during\\npregnancy to detect congenial defects\\nand growth abnormalities.\\n•Ultrasound may be employed to break\\nsmall ‘stones’ formed in the kidneys\\ninto fine grains. These grains later get\\nflushed out with urine.\\nRationalised 2023-24'),\n",
       " Document(metadata={'source': 'iesc111.pdf', 'page': 12}, page_content='SCIENCE 138• Loudness is a physiological response of the ear to the intensity\\nof sound.\\n• The amount of sound energy passing each second through\\nunit area is called the intensity of sound.\\n• The audible range of hearing for average human beings is in\\nthe frequency range of 20 Hz – 20 kHz.\\n• Sound waves with frequencies below the audible range are\\ntermed “infrasonic” and those above the audible range are\\ntermed “ultrasonic”.\\n• Ultrasound has many medical and industrial applications.\\nExercises\\n1.What is sound and how is it produced?\\n2.Describe with the help of a diagram, how compressions and\\nrarefactions are produced in air near a source of sound.\\n3.Why is sound wave called a longitudinal wave?\\n4.Which characteristic of the sound helps you to identify your\\nfriend by his voice while sitting with others in a dark room?\\n5.Flash and thunder are produced simultaneously. But\\nthunder is heard a few seconds after the flash is seen, why?\\n6.A person has a hearing range from 20 Hz to 20 kHz. What\\nare the typical wavelengths of sound waves in air\\ncorresponding to these two frequencies? Take the speed of\\nsound in air as 344 m s–1.\\n7.Two children are at opposite ends of an aluminium rod. One\\nstrikes the end of the rod with a stone. Find the ratio of\\ntimes taken by the sound wave in air and in aluminium to\\nreach the second child.\\n8.The frequency of a source of sound is 100 Hz. How many\\ntimes does it vibrate in a minute?\\n9.Does sound follow the same laws of reflection as light does?\\nExplain.\\n10. When a sound is reflected from a distant object, an echo is\\nproduced. Let the distance between the reflecting surface\\nand the source of sound production remains the same. Do\\nyou hear echo sound on a hotter day?\\n11. Give two practical applications of reflection of sound waves.\\n12. A stone is dropped from the top of a tower 500 m high into a\\npond of water at the base of the tower . When is the splash\\nheard at the top? Given, g = 10 m s–2 and speed of sound  =\\n340 m s–1.• Sound properties such as pitch, loudness and quality are\\ndetermined by the corresponding wave properties.\\nRationalised 2023-24'),\n",
       " Document(metadata={'source': 'iesc111.pdf', 'page': 13}, page_content='SOUND 13913. A sound wave travels at a speed of 339 m s–1. If its wavelength\\nis 1.5 cm, what is the frequency of the wave? Will it be\\naudible?\\n14. What is reverberation? How can it be reduced?\\n15. What is loudness of sound? What factors does it depend on?\\n16. How is ultrasound used for cleaning?\\n17. Explain how defects in a metal block can be detected using\\nultrasound.\\nRationalised 2023-24')]"
      ]
     },
     "execution_count": 6,
     "metadata": {},
     "output_type": "execute_result"
    }
   ],
   "source": [
    "loader = PyPDFLoader(\"iesc111.pdf\")\n",
    "pages = loader.load_and_split()\n",
    "pages"
   ]
  },
  {
   "cell_type": "markdown",
   "metadata": {},
   "source": [
    "### Step 2: Split Documentation"
   ]
  },
  {
   "cell_type": "code",
   "execution_count": 7,
   "metadata": {},
   "outputs": [
    {
     "data": {
      "text/plain": [
       "[Document(metadata={'source': 'iesc111.pdf', 'page': 0}, page_content='Everyday we hear sounds from various\\nsources like humans, bir ds, bells, machines,\\nvehicles, televisions, radios etc. Sound is a\\nform of ener gy which pr oduces a sensation'),\n",
       " Document(metadata={'source': 'iesc111.pdf', 'page': 0}, page_content='of hearing in our ears. Ther e are also other\\nforms of energy like mechanical energy, light\\nenergy, etc. W e have talked about mechanical\\nenergy in the pr evious chapters. Y ou have'),\n",
       " Document(metadata={'source': 'iesc111.pdf', 'page': 0}, page_content='been taught about conservation of energy,\\nwhich states that we can neither create nor\\ndestr oy ener gy. W e  can just change it fr om\\none for m to another . When you clap, a sound'),\n",
       " Document(metadata={'source': 'iesc111.pdf', 'page': 0}, page_content='is produced. Can you produce sound without\\nutilising your energy? Which form of energy\\ndid you use to produce sound? In this\\nchapter we are going to learn how sound is'),\n",
       " Document(metadata={'source': 'iesc111.pdf', 'page': 0}, page_content='produced and how it is transmitted through\\na medium and received by our ears.\\n11.1 Production of Sound\\nActivity _____________ 11.1\\n•Take a tuning fork and set it vibrating'),\n",
       " Document(metadata={'source': 'iesc111.pdf', 'page': 0}, page_content='by striking its pr ong on a rubber pad.\\nBring it near your ear .\\n•Do you hear any sound?\\n•Touch one of the pr ongs of the vibrating\\ntuning fork with your finger and shar e'),\n",
       " Document(metadata={'source': 'iesc111.pdf', 'page': 0}, page_content='tuning fork with your finger and shar e\\nyour experience with your friends.\\n•Now, suspend a table tennis ball or a\\nsmall plastic ball by a thr ead fr om a\\nsupport [T ake a big needle and a'),\n",
       " Document(metadata={'source': 'iesc111.pdf', 'page': 0}, page_content='support [T ake a big needle and a\\nthread, put a knot at one end of the\\nthread, and then with the help of the\\nneedle pass the thr ead thr ough the\\nball]. T ouch the ball gently with the'),\n",
       " Document(metadata={'source': 'iesc111.pdf', 'page': 0}, page_content='ball]. T ouch the ball gently with the\\nprong of a vibrating tuning\\nfork (Fig. 11.1).\\n•Observe what happens and discuss\\nwith your friends.Activity _____________ 11.2'),\n",
       " Document(metadata={'source': 'iesc111.pdf', 'page': 0}, page_content='•Fill water in a beaker or a glass up to\\nthe brim. Gently touch the water sur face\\nwith one of the pr ongs of the vibrating\\ntuning fork, as shown in Fig. 1 1.2.\\n•Next dip the pr ongs of the vibrating'),\n",
       " Document(metadata={'source': 'iesc111.pdf', 'page': 0}, page_content='•Next dip the pr ongs of the vibrating\\ntuning fork in water , as shown in Fig.\\n11.3.\\n•Observe what happens in both the\\ncases.\\n•Discuss with your friends why this'),\n",
       " Document(metadata={'source': 'iesc111.pdf', 'page': 0}, page_content='•Discuss with your friends why this\\nhappens.Fig. 11.1:  Vibrating tuning fork just touching the\\nsuspended table tennis ball.\\nFig. 11.2:   One of the prongs of the vibrating tuning'),\n",
       " Document(metadata={'source': 'iesc111.pdf', 'page': 0}, page_content='fork touching the water sur face.11\\nSSS\\nSSOUND OUNDOUND OUNDOUNDChapter\\nRationalised 2023-24'),\n",
       " Document(metadata={'source': 'iesc111.pdf', 'page': 1}, page_content='SCIENCE 128the vibrating object to the ear . A particle of\\nthe medium in contact with the vibrating\\nobject is first displaced fr om its equilibrium\\nposition. It then exerts a for ce on the adjacent'),\n",
       " Document(metadata={'source': 'iesc111.pdf', 'page': 1}, page_content='particle. As a r esult of which the adjacent\\nparticle gets displaced fr om its position of\\nrest. After displacing the adjacent particle the\\nfirst particle comes back to its original'),\n",
       " Document(metadata={'source': 'iesc111.pdf', 'page': 1}, page_content='position. This pr ocess continues in the\\nmedium till the sound r eaches your ear . The\\ndisturbance created by a source of  sound in\\nthe medium travels through the medium and'),\n",
       " Document(metadata={'source': 'iesc111.pdf', 'page': 1}, page_content='not the particles of the medium.\\nA wave is a disturbance that moves\\nthrough a medium when the particles of the\\nmedium set neighbouring particles into\\nmotion. They in tur n produce similar motion'),\n",
       " Document(metadata={'source': 'iesc111.pdf', 'page': 1}, page_content='in others. The particles of the medium do not\\nmove forwar d themselves, but the\\ndisturbance is carried forwar d. This is what\\nhappens during pr opagation of sound in a'),\n",
       " Document(metadata={'source': 'iesc111.pdf', 'page': 1}, page_content='medium, hence sound can be visualised as a\\nwave. Sound waves are characterised by the\\nmotion of particles in the medium and ar e\\ncalled mechanical waves.\\nAir is the most common medium thr ough'),\n",
       " Document(metadata={'source': 'iesc111.pdf', 'page': 1}, page_content='Air is the most common medium thr ough\\nwhich sound travels. When a vibrating object\\nmoves forward, it pushes and compresses the\\nair in front of it creating a region of high'),\n",
       " Document(metadata={'source': 'iesc111.pdf', 'page': 1}, page_content='pressur e. This r egion is called a compr ession\\n(C), as shown in Fig. 11.4. This compression\\nstarts to move away from the vibrating object.\\nWhen the vibrating object moves backwar ds,'),\n",
       " Document(metadata={'source': 'iesc111.pdf', 'page': 1}, page_content='it creates a r egion of low pr essur e called\\nrarefaction (R), as shown in Fig. 11.4. As the\\nobject moves back and forth rapidly, a series\\nof compressions and rarefactions is created in'),\n",
       " Document(metadata={'source': 'iesc111.pdf', 'page': 1}, page_content='the air . These make the sound wave thatFig. 11.3: Both the prongs of the vibrating tuning\\nfork dipped in water\\nFrom the above activities what do you\\nconclude? Can you pr oduce sound without'),\n",
       " Document(metadata={'source': 'iesc111.pdf', 'page': 1}, page_content='a vibrating object?\\nIn the above activities we have pr oduced\\nsound by striking the tuning fork. W e can\\nalso pr oduce sound by plucking, scratching,\\nrubbing, blowing or shaking dif ferent objects.'),\n",
       " Document(metadata={'source': 'iesc111.pdf', 'page': 1}, page_content='As per the above activities what do we do to\\nthe objects? W e set the objects vibrating and\\nproduce sound. V ibration means a kind of\\nrapid to and fr o motion of an object. The'),\n",
       " Document(metadata={'source': 'iesc111.pdf', 'page': 1}, page_content='sound of the human voice is pr oduced due\\nto vibrations in the vocal cor ds. When a bir d\\nflaps its wings, do you hear any sound? Think\\nhow the buzzing sound accompanying a bee'),\n",
       " Document(metadata={'source': 'iesc111.pdf', 'page': 1}, page_content='is produced. A str etched rubber band when\\nplucked vibrates and produces sound. If you\\nhave never done this, then do it and observe\\nthe vibration of the str etched rubber band.'),\n",
       " Document(metadata={'source': 'iesc111.pdf', 'page': 1}, page_content='Activity _____________ 11.3\\n•Make a list of different types of\\nmusical instruments and discuss\\nwith your friends which part of the\\ninstrument vibrates to produce\\nsound.\\n11.2Propagation of Sound'),\n",
       " Document(metadata={'source': 'iesc111.pdf', 'page': 1}, page_content='sound.\\n11.2Propagation of Sound\\nSound is pr oduced by vibrating objects. The\\nmatter or substance thr ough which sound\\nis transmitted is called a medium. It can be'),\n",
       " Document(metadata={'source': 'iesc111.pdf', 'page': 1}, page_content='solid, liquid or gas. Sound moves thr ough a\\nmedium from the point of generation to the\\nlistener . When an object vibrates, it sets the\\nparticles of the medium ar ound it vibrating.'),\n",
       " Document(metadata={'source': 'iesc111.pdf', 'page': 1}, page_content='The particles do not travel all the way fromFig. 11.4: A vibrating object creating a series of\\ncompr essions (C) and rar efactions (R) in\\nthe medium.\\nRationalised 2023-24'),\n",
       " Document(metadata={'source': 'iesc111.pdf', 'page': 2}, page_content='SOUND 129propagates through the medium.\\nCompr ession is the r egion of high pr essur e\\nand rar efaction is the r egion of low pr essur e.\\nPressur e is related to the number of particles'),\n",
       " Document(metadata={'source': 'iesc111.pdf', 'page': 2}, page_content='of a medium in a given volume. Mor e density\\nof the particles in the medium gives mor e\\npressur e and vice versa. Thus, pr opagation\\nof sound can be visualised as pr opagation of'),\n",
       " Document(metadata={'source': 'iesc111.pdf', 'page': 2}, page_content='density variations or pr essur e variations in\\nthe medium.\\nuestion\\n1.How does the sound produced by\\na vibrating object in a medium\\nreach your ear?\\n2.Explain how sound is produced\\nby your school bell.'),\n",
       " Document(metadata={'source': 'iesc111.pdf', 'page': 2}, page_content='by your school bell.\\n3.Why are sound waves called\\nmechanical waves?\\n4.Suppose you and your friend are\\non the moon. W ill you be able to\\nhear any sound pr oduced by\\nyour friend?'),\n",
       " Document(metadata={'source': 'iesc111.pdf', 'page': 2}, page_content='your friend?\\n11.2.1 SOUND  WAVES  ARE LONGITUDINAL\\nWAVES\\nActivity _____________ 11.4\\n•Take a slinky.  Ask your friend to hold\\none end. Y ou hold the other end.\\nNow str etch the slinky as shown in'),\n",
       " Document(metadata={'source': 'iesc111.pdf', 'page': 2}, page_content='Now str etch the slinky as shown in\\nFig. 11.5(a). Then give it a sharp push\\ntowards your friend.\\n•What do you notice? If you move your\\nhand pushing and pulling the slinky'),\n",
       " Document(metadata={'source': 'iesc111.pdf', 'page': 2}, page_content='hand pushing and pulling the slinky\\nalternatively, what will you observe?\\n•If you mark a dot on the slinky, you\\nwill observe that the dot on the slinky\\nwill move back and forth parallel to'),\n",
       " Document(metadata={'source': 'iesc111.pdf', 'page': 2}, page_content='will move back and forth parallel to\\nthe direction of the propagation of the\\ndisturbance.The regions where the coils become closer\\nare called compressions (C) and the regions'),\n",
       " Document(metadata={'source': 'iesc111.pdf', 'page': 2}, page_content='where the coils are further apart are called\\nrarefactions (R). As we already know, sound\\npropagates in the medium as a series of\\ncompressions and rarefactions. Now, we can'),\n",
       " Document(metadata={'source': 'iesc111.pdf', 'page': 2}, page_content='compare the propagation of disturbance in a\\nslinky with the sound propagation in the\\nmedium. These waves are called longitudinal\\nwaves. In these waves the individual particles'),\n",
       " Document(metadata={'source': 'iesc111.pdf', 'page': 2}, page_content='of the medium move in a direction parallel to\\nthe direction of propagation of the disturbance.\\nThe particles do not move from one place to\\nanother but they simply oscillate back and'),\n",
       " Document(metadata={'source': 'iesc111.pdf', 'page': 2}, page_content='forth about their position of rest. This is\\nexactly how a sound wave propagates, hence\\nsound waves are longitudinal waves.\\nThere is also another type of wave, called'),\n",
       " Document(metadata={'source': 'iesc111.pdf', 'page': 2}, page_content='a transverse wave. In a transverse wave\\nparticles do not oscillate along the direction\\nof wave propagation but oscillate up and down\\nabout their mean position as the wave travels.'),\n",
       " Document(metadata={'source': 'iesc111.pdf', 'page': 2}, page_content='Thus, a transverse wave is the one in which\\nthe individual particles of the medium move\\nabout their mean positions in a direction\\nperpendicular to the direction of wave'),\n",
       " Document(metadata={'source': 'iesc111.pdf', 'page': 2}, page_content='perpendicular to the direction of wave\\npropagation. When we drop a pebble in a\\npond, the waves you see on the water surface\\nis an example of transverse wave. Light is a'),\n",
       " Document(metadata={'source': 'iesc111.pdf', 'page': 2}, page_content='transverse wave but for light, the oscillations\\nare not of the medium particles or their\\npressure or density— it is not a mechanical\\nwave. Y ou will come to know mor e about'),\n",
       " Document(metadata={'source': 'iesc111.pdf', 'page': 2}, page_content='transverse waves in higher classes.\\n11.2.2 CHARACTERISTICS  OF A SOUND\\nWAVE\\nWe can describe a sound wave by its\\n•frequency\\n•amplitude and\\n•speed.Q\\nA sound wave in graphic form is shown in'),\n",
       " Document(metadata={'source': 'iesc111.pdf', 'page': 2}, page_content='Fig. 11.6(c), which represents how density and\\npressure change when the sound wave moves\\nin the medium. The density as well as the\\npressure of the medium at a given time varies'),\n",
       " Document(metadata={'source': 'iesc111.pdf', 'page': 2}, page_content='with distance, above and below the average\\nvalue of density and pressure. Fig. 11.6(a) and(b)(a)\\nFig. 11.5:  Longitudinal wave in a slinky.\\nRationalised 2023-24'),\n",
       " Document(metadata={'source': 'iesc111.pdf', 'page': 3}, page_content='SCIENCE 130Heinrich Rudolph Hertz\\nwas born on 22 February\\n1857 in Hamburg,\\nGermany and educated at\\nthe University of Berlin. He\\nconfirmed J.C. Maxwell’s\\nelectromagnetic theory by'),\n",
       " Document(metadata={'source': 'iesc111.pdf', 'page': 3}, page_content='electromagnetic theory by\\nhis experiments. He laid the\\nfoundation for future\\ndevelopment of radio, telephone, telegraph\\nand even television. He also discovered the'),\n",
       " Document(metadata={'source': 'iesc111.pdf', 'page': 3}, page_content='photoelectric effect which was later\\nexplained by Albert Einstein. The SI unit of\\nfrequency was named as hertz in his honour .Fig. 11.6(b) represent the density and'),\n",
       " Document(metadata={'source': 'iesc111.pdf', 'page': 3}, page_content='pressure variations, respectively, as a sound\\nwave propagates in the medium.\\nCompressions are the regions where\\nparticles are crowded together and\\nrepresented by the upper portion of the curve'),\n",
       " Document(metadata={'source': 'iesc111.pdf', 'page': 3}, page_content='in Fig. 11.6(c). The peak represents the region\\nof maximum compression. Thus,\\ncompressions are regions where density as\\nwell as pressure is high. Rarefactions are the'),\n",
       " Document(metadata={'source': 'iesc111.pdf', 'page': 3}, page_content='regions of low pressure where particles are\\nspread apart and are represented by the\\nvalley, that is, the lower portion of the curve\\nin Fig. 11.6(c). A peak is called the crest and a'),\n",
       " Document(metadata={'source': 'iesc111.pdf', 'page': 3}, page_content='valley is called the trough of a wave.\\nThe distance between two consecutive\\ncompressions (C) or two consecutive\\nrarefactions (R) is called the wavelength, as\\nshown in Fig. 11.6(c), The wavelength is'),\n",
       " Document(metadata={'source': 'iesc111.pdf', 'page': 3}, page_content='usually represented by λ (Greek letter\\nlambda). Its SI unit is metre (m).\\nH. R. Hertz\\nFig. 11.6: Sound propagates as density or pressure variations as shown in (a) and (b), (c) represents'),\n",
       " Document(metadata={'source': 'iesc111.pdf', 'page': 3}, page_content='graphically the density and pr essur e variations.Frequency tells us how frequently an\\nevent occurs. Suppose you are beating a\\ndrum. How many times you are beating the'),\n",
       " Document(metadata={'source': 'iesc111.pdf', 'page': 3}, page_content='drum in unit time is called the frequency of\\nyour beating the drum. W e know that when\\nsound is propagated through a medium, the\\nRationalised 2023-24'),\n",
       " Document(metadata={'source': 'iesc111.pdf', 'page': 4}, page_content='SOUND 131How the brain interprets the frequency\\nof an emitted sound is called its pitch. The\\nfaster the vibration of the source, the\\nhigher is the frequency and the higher is'),\n",
       " Document(metadata={'source': 'iesc111.pdf', 'page': 4}, page_content='the pitch, as shown in Fig. 11.7. Thus, a\\nhigh pitch sound corresponds to more\\nnumber of compressions and rarefactions\\npassing a fixed point per unit time.\\nObjects of different sizes and conditions'),\n",
       " Document(metadata={'source': 'iesc111.pdf', 'page': 4}, page_content='vibrate at different frequencies to produce\\nsounds of different pitch.\\nThe magnitude of the maximum\\ndisturbance in the medium on either side of\\nthe mean value is called the amplitude of the'),\n",
       " Document(metadata={'source': 'iesc111.pdf', 'page': 4}, page_content='wave. It is usually represented by the letter A,as shown in Fig. 11.6(c). For sound its unit\\nwill be that of density or pressure.\\nThe loudness or softness of a sound is'),\n",
       " Document(metadata={'source': 'iesc111.pdf', 'page': 4}, page_content='The loudness or softness of a sound is\\ndetermined basically by its amplitude. The\\namplitude of the sound wave depends upon\\nthe force with which an object is made to'),\n",
       " Document(metadata={'source': 'iesc111.pdf', 'page': 4}, page_content='vibrate. If we strike a table lightly, we hear a\\nsoft sound because we produce a sound wavedensity of the medium oscillates between a\\nmaximum value and a minimum value. The'),\n",
       " Document(metadata={'source': 'iesc111.pdf', 'page': 4}, page_content='maximum value and a minimum value. The\\nchange in density from the maximum value\\nto the minimum value, then again to the\\nmaximum value, makes one complete\\noscillation. The number of such oscillations'),\n",
       " Document(metadata={'source': 'iesc111.pdf', 'page': 4}, page_content='per unit time is the frequency of the sound\\nwave. If we can count the number of the\\ncompressions or rarefactions that cross us\\nper unit time, we will get the frequency of'),\n",
       " Document(metadata={'source': 'iesc111.pdf', 'page': 4}, page_content='the sound wave. It is usually represented by\\nν (Greek letter , nu). Its SI unit is hertz\\n(symbol, Hz).\\nThe time taken by two consecutive\\ncompressions or rarefactions to cross a fixed'),\n",
       " Document(metadata={'source': 'iesc111.pdf', 'page': 4}, page_content='point is called the time period of the wave. In\\nother words, we can say that the time taken\\nfor one complete oscillation is called the time\\nperiod of the sound wave. It is represented by'),\n",
       " Document(metadata={'source': 'iesc111.pdf', 'page': 4}, page_content='the symbol T. Its SI unit is second (s).\\nFrequency and time period are related as\\nfollows:\\n A violin and a flute may both be played at\\nthe same time in an orchestra. Both sounds'),\n",
       " Document(metadata={'source': 'iesc111.pdf', 'page': 4}, page_content='travel through the same medium, that is, air\\nand arrive at our ear at the same time. Both\\nsounds travel at the same speed irrespective\\nof the source. But the sounds we receive are'),\n",
       " Document(metadata={'source': 'iesc111.pdf', 'page': 4}, page_content='different. This is due to the different\\ncharacteristics associated with the sound.\\nPitch is one of the characteristics.=1vTFig. 11.7:  Low pitch sound has low frequency and'),\n",
       " Document(metadata={'source': 'iesc111.pdf', 'page': 4}, page_content='high pitch of sound has high frequency.\\nFig. 11.8: Soft sound has small amplitude and\\nlouder sound has large amplitude.\\nRationalised 2023-24'),\n",
       " Document(metadata={'source': 'iesc111.pdf', 'page': 5}, page_content='SCIENCE 132QQuestions\\n1.Which wave property determines\\n(a) loudness, (b) pitch?\\n2.Guess which sound has a higher\\npitch: guitar or car horn?\\nThe speed of sound is defined as the'),\n",
       " Document(metadata={'source': 'iesc111.pdf', 'page': 5}, page_content='The speed of sound is defined as the\\ndistance which a point on a wave, such as a\\ncompression or a rarefaction, travels per unit\\ntime.\\nWe know,\\nspeed, v = distance / time\\n= λ'),\n",
       " Document(metadata={'source': 'iesc111.pdf', 'page': 5}, page_content='We know,\\nspeed, v = distance / time\\n= λ\\nTExample 11.1 A sound wave has a\\nfrequency of 2 kHz and wave length\\n35 cm. How long will it take to travel\\n1.5 km?\\nSolution:\\nGiven,'),\n",
       " Document(metadata={'source': 'iesc111.pdf', 'page': 5}, page_content='1.5 km?\\nSolution:\\nGiven,\\nFrequency, ν = 2 kHz = 2000 Hz\\nWavelength, λ = 35 cm = 0.35 m\\nWe know that speed, v of the wave\\n= wavelength × frequency\\nv= λ ν\\n= 0.35 m  2000 Hz = 700 m/s'),\n",
       " Document(metadata={'source': 'iesc111.pdf', 'page': 5}, page_content='v= λ ν\\n= 0.35 m  2000 Hz = 700 m/s\\nThe time taken by the wave to travel a\\ndistance, d of 1.5 km is\\nThus sound will take 2.1 s to travel a\\ndistance of 1.5 km.\\nuestions'),\n",
       " Document(metadata={'source': 'iesc111.pdf', 'page': 5}, page_content='distance of 1.5 km.\\nuestions\\n1.What ar e wavelength, fr equency,\\ntime period and amplitude of a\\nsound wave?\\n2.How are the wavelength and\\nfrequency of a sound wave\\nrelated to its speed?'),\n",
       " Document(metadata={'source': 'iesc111.pdf', 'page': 5}, page_content='related to its speed?\\n3.Calculate the wavelength of a\\nsound wave whose fr equency is\\n220 Hz and speed is 440 m/s  in\\na given medium.\\n4.A person is listening to a tone of'),\n",
       " Document(metadata={'source': 'iesc111.pdf', 'page': 5}, page_content='4.A person is listening to a tone of\\n500 Hz sitting at a distance of\\n450 m from the source of the\\nsound. What is the time interval\\nbetween successive compr essions\\nfrom the source?'),\n",
       " Document(metadata={'source': 'iesc111.pdf', 'page': 5}, page_content='from the source?\\nThe amount of sound energy passing each\\nsecond through unit area is called the intensity\\nof sound. W e sometimes use the ter ms\\n“loudness” and “intensity” interchangeably,'),\n",
       " Document(metadata={'source': 'iesc111.pdf', 'page': 5}, page_content='but they are not the same. Loudness is a\\nmeasure of the response of the ear to the sound.\\nEven when two sounds are of equal intensity,\\nwe may hear one as louder than the other'),\n",
       " Document(metadata={'source': 'iesc111.pdf', 'page': 5}, page_content='simply because our ear detects it better .of less energy (amplitude). If we hit the table\\nhard we hear a louder sound. Can you tell\\nwhy? A sound wave spreads out from its'),\n",
       " Document(metadata={'source': 'iesc111.pdf', 'page': 5}, page_content='why? A sound wave spreads out from its\\nsource. As it moves away from the source its\\namplitude as well as its loudness decreases.\\nLouder sound can travel a larger distance as'),\n",
       " Document(metadata={'source': 'iesc111.pdf', 'page': 5}, page_content='it is associated with higher energy. Fig. 11.8\\nshows the wave shapes of a loud and a soft\\nsound of the same frequency.\\nThe quality or timber of sound is that'),\n",
       " Document(metadata={'source': 'iesc111.pdf', 'page': 5}, page_content='The quality or timber of sound is that\\ncharacteristic which enables us to distinguish\\none sound from another having the same pitch\\nand loudness. The sound which is more'),\n",
       " Document(metadata={'source': 'iesc111.pdf', 'page': 5}, page_content='and loudness. The sound which is more\\npleasant is said to be of a rich quality. A sound\\nof single frequency is called a tone. The sound\\nwhich is produced due to a mixture of several'),\n",
       " Document(metadata={'source': 'iesc111.pdf', 'page': 5}, page_content='frequencies is called a note and is pleasant to\\nlisten to. Noise is unpleasant to the ear! Music\\nis pleasant to hear and is of rich quality.\\nHere λ is the wavelength of the sound wave. It'),\n",
       " Document(metadata={'source': 'iesc111.pdf', 'page': 5}, page_content='is the distance travelled by the sound wave in\\none time period ( T) of the wave. Thus,\\nv = λ ν \\nor v = λ ν\\nThat is, speed = wavelength × frequency.\\nThe speed of sound remains almost the'),\n",
       " Document(metadata={'source': 'iesc111.pdf', 'page': 5}, page_content='The speed of sound remains almost the\\nsame for all frequencies in a given medium\\nunder the same physical conditions.\\nRationalised 2023-24'),\n",
       " Document(metadata={'source': 'iesc111.pdf', 'page': 6}, page_content='SOUND 133uestion\\n1.Distinguish between loudness\\nand intensity of sound.uestion\\n1.In which of the thr ee media, air ,\\nwater or iron, does sound travel\\nthe fastest at a particular\\ntemperature?'),\n",
       " Document(metadata={'source': 'iesc111.pdf', 'page': 6}, page_content='temperature?\\n11.3 Reflection of Sound\\nSound bounces off a solid or a liquid like a\\nrubber ball bounces off a wall. Like light, sound\\ngets reflected at the surface of a solid or liquid'),\n",
       " Document(metadata={'source': 'iesc111.pdf', 'page': 6}, page_content='and follows the same laws of reflection as you\\nhave studied in earlier classes. The directions\\nin which the sound is incident and is reflected\\nmake equal angles with the normal to the'),\n",
       " Document(metadata={'source': 'iesc111.pdf', 'page': 6}, page_content='reflecting surface at the point of incidence, and\\nthe three are in the same plane. An obstacle of\\nlarge size which may be polished or rough is\\nneeded for the reflection of sound waves.'),\n",
       " Document(metadata={'source': 'iesc111.pdf', 'page': 6}, page_content='Activity _____________ 11.5\\n•Take two identical pipes, as shown in\\nFig. 11.9. Y ou can make the pipes\\nusing chart paper . The length of the\\npipes should be sufficiently long\\nas shown.'),\n",
       " Document(metadata={'source': 'iesc111.pdf', 'page': 6}, page_content='as shown.\\n•Arrange them on a table near a wall.\\n•Keep a clock near the open end of one\\nof the pipes and try to hear the sound\\nof the clock through the other pipe.\\n•Adjust the position of the pipes so'),\n",
       " Document(metadata={'source': 'iesc111.pdf', 'page': 6}, page_content='•Adjust the position of the pipes so\\nthat you can best hear the sound of\\nthe clock.\\n•Now, measure the angles of incidence\\nand reflection and see the\\nrelationship between the angles.'),\n",
       " Document(metadata={'source': 'iesc111.pdf', 'page': 6}, page_content='relationship between the angles.\\n•Lift the pipe on the right vertically\\nto a small height and observe\\nwhat happens.\\n(In place of a clock, a mobile phone\\non vibrating mode may also be used.)QQ'),\n",
       " Document(metadata={'source': 'iesc111.pdf', 'page': 6}, page_content='on vibrating mode may also be used.)QQ\\n11.2.3 SPEED OF SOUND  IN DIFFERENT\\nMEDIA\\nSound propagates through a medium at a finite\\nspeed. The sound of a thunder is heard  a little'),\n",
       " Document(metadata={'source': 'iesc111.pdf', 'page': 6}, page_content='later than the flash of light is seen. So, we can\\nmake out that sound travels with a speed\\nwhich is much less than the speed of light. The\\nspeed of sound depends on the properties of'),\n",
       " Document(metadata={'source': 'iesc111.pdf', 'page': 6}, page_content='the medium thr ough which it travels. Y ou will\\nlearn about this dependence in higher classes.\\nThe speed of sound in a medium depends on\\ntemperature of the medium. The speed of'),\n",
       " Document(metadata={'source': 'iesc111.pdf', 'page': 6}, page_content='temperature of the medium. The speed of\\nsound decreases when we go from solid to\\ngaseous state. In any medium as we increase\\nthe temperature, the speed of sound increases.'),\n",
       " Document(metadata={'source': 'iesc111.pdf', 'page': 6}, page_content='For example, the speed of sound in air is 331\\nm s–1 at 0 ºC and 344 m s–1 at 22 ºC. The speeds\\nof sound at a particular temperature in various\\nmedia ar e listed in T able 11.1. Y ou need not'),\n",
       " Document(metadata={'source': 'iesc111.pdf', 'page': 6}, page_content='memorise the values.\\nTable 11.1: Speed of sound in\\ndifferent media at 25 ºC\\nState Substance Speed in m/s\\nSolids Aluminium 6420\\nNickel 6040\\nSteel 5960\\nIron 5950\\nBrass 4700\\nGlass (Flint) 3980'),\n",
       " Document(metadata={'source': 'iesc111.pdf', 'page': 6}, page_content='Iron 5950\\nBrass 4700\\nGlass (Flint) 3980\\nLiquids Water (Sea) 1531\\nWater (distilled) 1498\\nEthanol 1207\\nMethanol 1103\\nGases Hydrogen 1284\\nHelium 965\\nAir 346\\nOxygen 316'),\n",
       " Document(metadata={'source': 'iesc111.pdf', 'page': 6}, page_content='Helium 965\\nAir 346\\nOxygen 316\\nSulphur dioxide 213Fig. 11.9:  Reflection of sound\\nRationalised 2023-24'),\n",
       " Document(metadata={'source': 'iesc111.pdf', 'page': 7}, page_content='SCIENCE 13411.3.1 ECHO\\nIf we shout or clap near a suitable reflecting\\nobject such as a tall building or a\\nmountain,we will hear the same sound\\nagain a little  later . This sound which we'),\n",
       " Document(metadata={'source': 'iesc111.pdf', 'page': 7}, page_content='hear is called an echo. The sensation of\\nsound persists in our brain for about 0.1\\ns. To hear a distinct echo the time interval\\nbetween the original sound and the'),\n",
       " Document(metadata={'source': 'iesc111.pdf', 'page': 7}, page_content='between the original sound and the\\nreflected one must be  at least 0.1s. If we\\ntake the speed of sound to be 344 m/s at a\\ngiven temperatur e, say at 22 ºC in air , the'),\n",
       " Document(metadata={'source': 'iesc111.pdf', 'page': 7}, page_content='sound must go to the obstacle and reach\\nback the ear of the listener on reflection after\\n0.1s. Hence, the total distance covered by\\nthe sound from the point of generation to'),\n",
       " Document(metadata={'source': 'iesc111.pdf', 'page': 7}, page_content='the reflecting surface and back should be\\nat least (344 m/s) × 0.1 s = 34.4 m. Thus,\\nfor hearing distinct echoes, the minimum\\ndistance of the obstacle from the source of'),\n",
       " Document(metadata={'source': 'iesc111.pdf', 'page': 7}, page_content='sound must be half of this distance, that\\nis, 17.2 m. This distance will change with\\nthe temperatur e of air . Echoes may be hear d\\nmore than once due to successive or'),\n",
       " Document(metadata={'source': 'iesc111.pdf', 'page': 7}, page_content='more than once due to successive or\\nmultiple reflections. The rolling of thunder\\nis due to the successive reflections of the\\nsound from a number of reflecting surfaces,'),\n",
       " Document(metadata={'source': 'iesc111.pdf', 'page': 7}, page_content='such as the clouds and the land.\\n11.3.2 REVERBERATION\\nA sound created in a big hall will persist\\nby repeated reflection from the walls until\\nit is reduced to a value where it is no longer'),\n",
       " Document(metadata={'source': 'iesc111.pdf', 'page': 7}, page_content='audible. The repeated reflection that\\nresults in this persistence of sound is\\ncalled reverberation. In an auditorium or\\nbig hall excessive reverberation is highly'),\n",
       " Document(metadata={'source': 'iesc111.pdf', 'page': 7}, page_content='undesirable. To reduce reverberation, the\\nroof and walls of the auditorium are\\ngenerally covered with sound-absorbent\\nmaterials like compressed fibreboard,\\nrough plaster or draperies. The seat'),\n",
       " Document(metadata={'source': 'iesc111.pdf', 'page': 7}, page_content='rough plaster or draperies. The seat\\nmaterials are also selected on the basis of\\ntheir sound absorbing properties.\\nExample 11.2  A person clapped his hands'),\n",
       " Document(metadata={'source': 'iesc111.pdf', 'page': 7}, page_content='near a cliff and heard the echo after 2 s.What is the distance of the cliff from the\\nperson if the speed of the sound, v is\\ntaken as 346 m s–1?\\nSolution:\\nGiven,\\nSpeed of sound, v = 346 m s–1'),\n",
       " Document(metadata={'source': 'iesc111.pdf', 'page': 7}, page_content='Given,\\nSpeed of sound, v = 346 m s–1\\nTime taken for hearing the echo,\\nt = 2 s\\nDistance travelled by the sound\\n= v × t = 346 m s–1 × 2 s = 692 m\\nIn 2 s sound has to travel twice the'),\n",
       " Document(metadata={'source': 'iesc111.pdf', 'page': 7}, page_content='In 2 s sound has to travel twice the\\ndistance between the cliff and the\\nperson. Hence, the distance between the\\ncliff and the person\\n= 692 m/2 = 346 m.\\nQ\\nHorn\\nMegaphone'),\n",
       " Document(metadata={'source': 'iesc111.pdf', 'page': 7}, page_content='= 692 m/2 = 346 m.\\nQ\\nHorn\\nMegaphone\\nFig 11.10:   A megaphone and a horn.uestion\\n1.An echo is heard in 3 s. What is\\nthe distance of the reflecting\\nsurface from the source, given that'),\n",
       " Document(metadata={'source': 'iesc111.pdf', 'page': 7}, page_content='surface from the source, given that\\nthe speed of sound is  342  m s–1?\\n11.3.3 USES OF MULTIPLE  REFLECTION\\nOF SOUND\\n1.Megaphones or loudhailers, horns,\\nmusical instruments such as trumpets'),\n",
       " Document(metadata={'source': 'iesc111.pdf', 'page': 7}, page_content='musical instruments such as trumpets\\nand shehanais , are all designed to send\\nsound in a particular direction without\\nspreading it in all directions, as shown\\nin Fig 11.10.\\nRationalised 2023-24'),\n",
       " Document(metadata={'source': 'iesc111.pdf', 'page': 8}, page_content='SOUND 1352.Stethoscope is a medical instrument\\nused for listening to sounds produced\\nwithin the body, mainly in the heart or\\nlungs. In stethoscopes the sound of the'),\n",
       " Document(metadata={'source': 'iesc111.pdf', 'page': 8}, page_content='lungs. In stethoscopes the sound of the\\npatient’s heartbeat reaches the doctor’s\\nears by multiple reflection of sound, as\\nshown in Fig.11.11.'),\n",
       " Document(metadata={'source': 'iesc111.pdf', 'page': 8}, page_content='shown in Fig.11.11.\\nFig. 11.12:  Curved ceiling of a conference hall.Fig. 11.13:  Sound board used in a big hall.\\nuestion\\n1.Why are the ceilings of concert\\nhalls curved?\\n11.4Range of Hearing'),\n",
       " Document(metadata={'source': 'iesc111.pdf', 'page': 8}, page_content='halls curved?\\n11.4Range of Hearing\\nThe audible range of sound for human beings\\nextends from about 20 Hz to 20000 Hz (one\\nHz = one cycle/s). Children under the age of'),\n",
       " Document(metadata={'source': 'iesc111.pdf', 'page': 8}, page_content='five and some animals, such as dogs can hear\\nup to 25 kHz (1 kHz = 1000 Hz). As people\\ngrow older their ears become less sensitive to\\nhigher frequencies. Sounds of frequencies'),\n",
       " Document(metadata={'source': 'iesc111.pdf', 'page': 8}, page_content='below 20 Hz are called infrasonic sound or\\ninfrasound. If we could hear infrasound we\\nwould hear the vibrations of a pendulum just\\nas we hear the vibrations of the wings of a bee.'),\n",
       " Document(metadata={'source': 'iesc111.pdf', 'page': 8}, page_content='Rhinoceroses communicate using infrasound\\nof frequency as low as 5 Hz. Whales and\\nelephants produce sound in the infrasound\\nrange. It is observed that some animals get'),\n",
       " Document(metadata={'source': 'iesc111.pdf', 'page': 8}, page_content='disturbed before earthquakes. Earthquakes\\nproduce low-frequency infrasound before the\\nmain shock waves begin which possibly alert\\nthe animals. Frequencies higher than 20 kHz'),\n",
       " Document(metadata={'source': 'iesc111.pdf', 'page': 8}, page_content='are called ultrasonic sound or ultrasound.\\nUltrasound is produced by animals such as\\ndolphins, bats and porpoises. Moths of certain\\nfamilies have very sensitive hearing equipment.'),\n",
       " Document(metadata={'source': 'iesc111.pdf', 'page': 8}, page_content='These moths can hear the high frequencyQ\\nFig.11.11:  Stethoscope\\n3.Generally the ceilings of concert halls,\\nconference halls and cinema halls are\\ncurved so that sound after reflection'),\n",
       " Document(metadata={'source': 'iesc111.pdf', 'page': 8}, page_content='curved so that sound after reflection\\nreaches all corners of the hall, as\\nshown in Fig 1 1.12. Sometimes a\\ncurved soundboard may be placed\\nbehind the stage so that the sound,'),\n",
       " Document(metadata={'source': 'iesc111.pdf', 'page': 8}, page_content='behind the stage so that the sound,\\nafter reflecting from the sound board,\\nspreads evenly across the width of the\\nhall (Fig 1 1.13).In these instruments, a tube followed'),\n",
       " Document(metadata={'source': 'iesc111.pdf', 'page': 8}, page_content='by a conical opening reflects sound\\nsuccessively to guide most of the\\nsound waves from the source in the\\nforward direction towards the\\naudience.\\nRationalised 2023-24'),\n",
       " Document(metadata={'source': 'iesc111.pdf', 'page': 9}, page_content='SCIENCE 136squeaks of the bat and know when a bat\\nis flying nearby, and are able to escape\\ncapture. Rats also play games by\\nproducing ultrasound.\\nHearing Aid: People with hearing loss may'),\n",
       " Document(metadata={'source': 'iesc111.pdf', 'page': 9}, page_content='need a hearing aid. A hearing aid is an\\nelectronic, battery operated device. The\\nhearing aid receives sound through a\\nmicrophone. The microphone converts the\\nsound waves to electrical signals. These'),\n",
       " Document(metadata={'source': 'iesc111.pdf', 'page': 9}, page_content='electrical signals are amplified by an\\namplifier . The amplified electrical signals\\nare given to a speaker of the hearing aid.\\nThe speaker converts the amplified'),\n",
       " Document(metadata={'source': 'iesc111.pdf', 'page': 9}, page_content='The speaker converts the amplified\\nelectrical signal to sound and sends to the\\near for clear hearing.in construction of big structures like\\nbuildings, bridges, machines and also'),\n",
       " Document(metadata={'source': 'iesc111.pdf', 'page': 9}, page_content='buildings, bridges, machines and also\\nscientific equipment. The cracks or\\nholes inside the metal blocks, which\\nare invisible from outside reduces the\\nstrength of the structure. Ultrasonic'),\n",
       " Document(metadata={'source': 'iesc111.pdf', 'page': 9}, page_content='strength of the structure. Ultrasonic\\nwaves are allowed to pass through the\\nmetal block and detectors are used to\\ndetect the transmitted waves. If there\\nis even a small defect, the ultrasound'),\n",
       " Document(metadata={'source': 'iesc111.pdf', 'page': 9}, page_content='is even a small defect, the ultrasound\\ngets reflected back indicating the\\npresence of the flaw or defect, as shown\\nin Fig. 11.14.\\nQ\\nMetallic components are generally useduestions'),\n",
       " Document(metadata={'source': 'iesc111.pdf', 'page': 9}, page_content='1.What is the audible range of the\\naverage human ear?\\n2.What is the range of frequencies\\nassociated with\\n(a)Infrasound?\\n(b)Ultrasound?\\n11.5Applications of Ultrasound'),\n",
       " Document(metadata={'source': 'iesc111.pdf', 'page': 9}, page_content='11.5Applications of Ultrasound\\nUltrasounds are high frequency waves.\\nUltrasounds are able to travel along well-\\ndefined paths even in the presence of\\nobstacles. Ultrasounds are used extensively'),\n",
       " Document(metadata={'source': 'iesc111.pdf', 'page': 9}, page_content='in industries and for medical purposes.\\n•Ultrasound is generally used to clean\\nparts located in hard-to-reach places,\\nfor example, spiral tube, odd shaped\\nparts, electronic components, etc.'),\n",
       " Document(metadata={'source': 'iesc111.pdf', 'page': 9}, page_content='parts, electronic components, etc.\\nObjects to be cleaned are placed in a\\ncleaning solution and ultrasonic waves\\nare sent into the solution. Due to\\nthe high frequency, the particles of'),\n",
       " Document(metadata={'source': 'iesc111.pdf', 'page': 9}, page_content='the high frequency, the particles of\\ndust, grease and dirt get detached and\\ndrop out. The objects thus get\\nthoroughly cleaned.\\n•Ultrasounds can be used to detect'),\n",
       " Document(metadata={'source': 'iesc111.pdf', 'page': 9}, page_content='•Ultrasounds can be used to detect\\ncracks and flaws in metal blocks.Fig 11.14:  Ultrasound is reflected back from the\\ndefective locations inside a metal block.\\nOrdinary sound of longer wavelengths'),\n",
       " Document(metadata={'source': 'iesc111.pdf', 'page': 9}, page_content='Ordinary sound of longer wavelengths\\ncannot be used for such purpose as it will\\nbend around the corners of the defective\\nlocation and enter the detector .\\n•Ultrasonic waves are made to reflect'),\n",
       " Document(metadata={'source': 'iesc111.pdf', 'page': 9}, page_content='•Ultrasonic waves are made to reflect\\nfrom various parts of the heart and\\nform the image of the heart. This  tech-\\nnique is called ‘echocardiography’.\\n•Ultrasound scanner is an instrument'),\n",
       " Document(metadata={'source': 'iesc111.pdf', 'page': 9}, page_content='•Ultrasound scanner is an instrument\\nwhich uses ultrasonic waves for\\ngetting images of internal organs of the\\nhuman body. A doctor may image the\\npatient’s or gans, such as the liver , gall'),\n",
       " Document(metadata={'source': 'iesc111.pdf', 'page': 9}, page_content='bladder , uterus, kidney, etc. It helps\\nthe doctor to detect abnormalities,\\nsuch as stones in the gall bladder and\\nkidney or tumours in different organs.\\nIn this technique the ultrasonic waves'),\n",
       " Document(metadata={'source': 'iesc111.pdf', 'page': 9}, page_content='In this technique the ultrasonic waves\\ntravel through the tissues of the body\\nand get reflected from a region where\\nthere is a change of tissue density.\\nRationalised 2023-24'),\n",
       " Document(metadata={'source': 'iesc111.pdf', 'page': 10}, page_content='SCIENCE 136squeaks of the bat and know when a bat\\nis flying nearby, and are able to escape\\ncapture. Rats also play games by\\nproducing ultrasound.\\nHearing Aid:  People with hearing loss may'),\n",
       " Document(metadata={'source': 'iesc111.pdf', 'page': 10}, page_content='need a hearing aid. A hearing aid is an\\nelectronic, battery operated device. The\\nhearing aid receives sound through a\\nmicrophone. The microphone converts the\\nsound waves to electrical signals. These'),\n",
       " Document(metadata={'source': 'iesc111.pdf', 'page': 10}, page_content='electrical signals are amplified by an\\namplifier . The amplified electrical signals\\nare given to a speaker of the hearing aid.\\nThe speaker converts the amplified'),\n",
       " Document(metadata={'source': 'iesc111.pdf', 'page': 10}, page_content='The speaker converts the amplified\\nelectrical signal to sound and sends to the\\near for clear hearing.in construction of big structures like\\nbuildings, bridges, machines and also'),\n",
       " Document(metadata={'source': 'iesc111.pdf', 'page': 10}, page_content='buildings, bridges, machines and also\\nscientific equipment. The cracks or\\nholes inside the metal blocks, which\\nare invisible from outside reduces the\\nstrength of the structure. Ultrasonic'),\n",
       " Document(metadata={'source': 'iesc111.pdf', 'page': 10}, page_content='strength of the structure. Ultrasonic\\nwaves are allowed to pass through the\\nmetal block and detectors are used to\\ndetect the transmitted waves. If there\\nis even a small defect, the ultrasound'),\n",
       " Document(metadata={'source': 'iesc111.pdf', 'page': 10}, page_content='is even a small defect, the ultrasound\\ngets reflected back indicating the\\npresence of the flaw or defect, as shown\\nin Fig. 11.14.\\nQ\\nMetallic components are generally useduestions'),\n",
       " Document(metadata={'source': 'iesc111.pdf', 'page': 10}, page_content='1.What is the audible range of the\\naverage human ear?\\n2.What is the range of frequencies\\nassociated with\\n(a)Infrasound?\\n(b)Ultrasound?\\n11.5Applications of Ultrasound'),\n",
       " Document(metadata={'source': 'iesc111.pdf', 'page': 10}, page_content='11.5Applications of Ultrasound\\nUltrasounds are high frequency waves.\\nUltrasounds are able to travel along well-\\ndefined paths even in the presence of\\nobstacles. Ultrasounds are used extensively'),\n",
       " Document(metadata={'source': 'iesc111.pdf', 'page': 10}, page_content='in industries and for medical purposes.\\n•Ultrasound is generally used to clean\\nparts located in hard-to-reach places,\\nfor example, spiral tube, odd shaped\\nparts, electronic components, etc.'),\n",
       " Document(metadata={'source': 'iesc111.pdf', 'page': 10}, page_content='parts, electronic components, etc.\\nObjects to be cleaned are placed in a\\ncleaning solution and ultrasonic waves\\nare sent into the solution. Due to\\nthe high frequency, the particles of'),\n",
       " Document(metadata={'source': 'iesc111.pdf', 'page': 10}, page_content='the high frequency, the particles of\\ndust, grease and dirt get detached and\\ndrop out. The objects thus get\\nthoroughly cleaned.\\n•Ultrasounds can be used to detect'),\n",
       " Document(metadata={'source': 'iesc111.pdf', 'page': 10}, page_content='•Ultrasounds can be used to detect\\ncracks and flaws in metal blocks.Fig 11.14:  Ultrasound is reflected back from the\\ndefective locations inside a metal block.\\nOrdinary sound of longer wavelengths'),\n",
       " Document(metadata={'source': 'iesc111.pdf', 'page': 10}, page_content='Ordinary sound of longer wavelengths\\ncannot be used for such purpose as it will\\nbend around the corners of the defective\\nlocation and enter the detector .\\n•Ultrasonic waves are made to reflect'),\n",
       " Document(metadata={'source': 'iesc111.pdf', 'page': 10}, page_content='•Ultrasonic waves are made to reflect\\nfrom various parts of the heart and\\nform the image of the heart. This  tech-\\nnique is called ‘echocardiography’.\\n•Ultrasound scanner is an instrument'),\n",
       " Document(metadata={'source': 'iesc111.pdf', 'page': 10}, page_content='•Ultrasound scanner is an instrument\\nwhich uses ultrasonic waves for\\ngetting images of internal organs of the\\nhuman body. A doctor may image the\\npatient’s or gans, such as the liver , gall'),\n",
       " Document(metadata={'source': 'iesc111.pdf', 'page': 10}, page_content='bladder , uterus, kidney, etc. It helps\\nthe doctor to detect abnormalities,\\nsuch as stones in the gall bladder and\\nkidney or tumours in different organs.\\nIn this technique the ultrasonic waves'),\n",
       " Document(metadata={'source': 'iesc111.pdf', 'page': 10}, page_content='In this technique the ultrasonic waves\\ntravel through the tissues of the body\\nand get reflected from a region where\\nthere is a change of tissue density.\\nRationalised 2023-24'),\n",
       " Document(metadata={'source': 'iesc111.pdf', 'page': 11}, page_content='SOUND 137What\\nyou have\\nlearnt\\n• Sound is produced due to vibration of different objects.\\n• Sound travels as a longitudinal wave through a material\\nmedium.'),\n",
       " Document(metadata={'source': 'iesc111.pdf', 'page': 11}, page_content='medium.\\n• Sound travels as successive compressions and rarefactions\\nin the medium.\\n• In sound propagation, it is the energy of the sound that\\ntravels and not the particles of the medium.'),\n",
       " Document(metadata={'source': 'iesc111.pdf', 'page': 11}, page_content='• The change in density from one maximum value to the\\nminimum value and again to the maximum value makes\\none complete oscillation.\\n• The distance between two consecutive compressions or two'),\n",
       " Document(metadata={'source': 'iesc111.pdf', 'page': 11}, page_content='consecutive rarefactions is called the wavelength, λ.\\n• The time taken by the wave for one complete oscillation of\\nthe density or pressure of the medium is called the time\\nperiod, T.'),\n",
       " Document(metadata={'source': 'iesc111.pdf', 'page': 11}, page_content='period, T.\\n• The number of complete oscillations per unit time is called\\nthe frequency (ν ), 1=v.T\\n• The speed v, frequency ν, and wavelength λ, of sound are\\nrelated by the equation, v  = λν.'),\n",
       " Document(metadata={'source': 'iesc111.pdf', 'page': 11}, page_content='related by the equation, v  = λν.\\n• The speed of sound depends primarily on the nature and\\nthe temperature of the transmitting medium.\\n• The law of reflection of sound states that the directions in'),\n",
       " Document(metadata={'source': 'iesc111.pdf', 'page': 11}, page_content='which the sound is incident and reflected make equal angles\\nwith the normal to the reflecting surface at the point of\\nincidence and the three lie in the same plane.'),\n",
       " Document(metadata={'source': 'iesc111.pdf', 'page': 11}, page_content='• For hearing a distinct sound, the time interval between the\\noriginal sound and the reflected one must be at least 0.1 s.\\n• The persistence of sound in an auditorium is the result of'),\n",
       " Document(metadata={'source': 'iesc111.pdf', 'page': 11}, page_content='repeated reflections of sound and is called reverberation.These waves are then converted into\\nelectrical signals that are used to\\ngenerate images of the organ. These'),\n",
       " Document(metadata={'source': 'iesc111.pdf', 'page': 11}, page_content='generate images of the organ. These\\nimages are then displayed on a monitor\\nor printed on a film. This technique\\nis called ‘ultrasonography’.'),\n",
       " Document(metadata={'source': 'iesc111.pdf', 'page': 11}, page_content='is called ‘ultrasonography’.\\nUltrasonography is also used forexamination of the foetus during\\npregnancy to detect congenial defects\\nand growth abnormalities.\\n•Ultrasound may be employed to break'),\n",
       " Document(metadata={'source': 'iesc111.pdf', 'page': 11}, page_content='•Ultrasound may be employed to break\\nsmall ‘stones’ formed in the kidneys\\ninto fine grains. These grains later get\\nflushed out with urine.\\nRationalised 2023-24'),\n",
       " Document(metadata={'source': 'iesc111.pdf', 'page': 12}, page_content='SCIENCE 138• Loudness is a physiological response of the ear to the intensity\\nof sound.\\n• The amount of sound energy passing each second through\\nunit area is called the intensity of sound.'),\n",
       " Document(metadata={'source': 'iesc111.pdf', 'page': 12}, page_content='• The audible range of hearing for average human beings is in\\nthe frequency range of 20 Hz – 20 kHz.\\n• Sound waves with frequencies below the audible range are'),\n",
       " Document(metadata={'source': 'iesc111.pdf', 'page': 12}, page_content='termed “infrasonic” and those above the audible range are\\ntermed “ultrasonic”.\\n• Ultrasound has many medical and industrial applications.\\nExercises\\n1.What is sound and how is it produced?'),\n",
       " Document(metadata={'source': 'iesc111.pdf', 'page': 12}, page_content='1.What is sound and how is it produced?\\n2.Describe with the help of a diagram, how compressions and\\nrarefactions are produced in air near a source of sound.'),\n",
       " Document(metadata={'source': 'iesc111.pdf', 'page': 12}, page_content='3.Why is sound wave called a longitudinal wave?\\n4.Which characteristic of the sound helps you to identify your\\nfriend by his voice while sitting with others in a dark room?'),\n",
       " Document(metadata={'source': 'iesc111.pdf', 'page': 12}, page_content='5.Flash and thunder are produced simultaneously. But\\nthunder is heard a few seconds after the flash is seen, why?\\n6.A person has a hearing range from 20 Hz to 20 kHz. What'),\n",
       " Document(metadata={'source': 'iesc111.pdf', 'page': 12}, page_content='are the typical wavelengths of sound waves in air\\ncorresponding to these two frequencies? Take the speed of\\nsound in air as 344 m s–1.\\n7.Two children are at opposite ends of an aluminium rod. One'),\n",
       " Document(metadata={'source': 'iesc111.pdf', 'page': 12}, page_content='strikes the end of the rod with a stone. Find the ratio of\\ntimes taken by the sound wave in air and in aluminium to\\nreach the second child.\\n8.The frequency of a source of sound is 100 Hz. How many'),\n",
       " Document(metadata={'source': 'iesc111.pdf', 'page': 12}, page_content='times does it vibrate in a minute?\\n9.Does sound follow the same laws of reflection as light does?\\nExplain.\\n10. When a sound is reflected from a distant object, an echo is'),\n",
       " Document(metadata={'source': 'iesc111.pdf', 'page': 12}, page_content='produced. Let the distance between the reflecting surface\\nand the source of sound production remains the same. Do\\nyou hear echo sound on a hotter day?'),\n",
       " Document(metadata={'source': 'iesc111.pdf', 'page': 12}, page_content='you hear echo sound on a hotter day?\\n11. Give two practical applications of reflection of sound waves.\\n12. A stone is dropped from the top of a tower 500 m high into a'),\n",
       " Document(metadata={'source': 'iesc111.pdf', 'page': 12}, page_content='pond of water at the base of the tower . When is the splash\\nheard at the top? Given, g = 10 m s–2 and speed of sound  =\\n340 m s–1.• Sound properties such as pitch, loudness and quality are'),\n",
       " Document(metadata={'source': 'iesc111.pdf', 'page': 12}, page_content='determined by the corresponding wave properties.\\nRationalised 2023-24'),\n",
       " Document(metadata={'source': 'iesc111.pdf', 'page': 13}, page_content='SOUND 13913. A sound wave travels at a speed of 339 m s–1. If its wavelength\\nis 1.5 cm, what is the frequency of the wave? Will it be\\naudible?\\n14. What is reverberation? How can it be reduced?'),\n",
       " Document(metadata={'source': 'iesc111.pdf', 'page': 13}, page_content='15. What is loudness of sound? What factors does it depend on?\\n16. How is ultrasound used for cleaning?\\n17. Explain how defects in a metal block can be detected using\\nultrasound.\\nRationalised 2023-24')]"
      ]
     },
     "execution_count": 7,
     "metadata": {},
     "output_type": "execute_result"
    }
   ],
   "source": [
    "text_splitter = RecursiveCharacterTextSplitter(chunk_size=200, chunk_overlap=40)\n",
    "splits = text_splitter.split_documents(pages)\n",
    "splits"
   ]
  },
  {
   "cell_type": "markdown",
   "metadata": {},
   "source": [
    "### Step 3: Create a Vectorstore to Index contents of the document"
   ]
  },
  {
   "cell_type": "code",
   "execution_count": 8,
   "metadata": {},
   "outputs": [
    {
     "data": {
      "text/plain": [
       "<langchain_chroma.vectorstores.Chroma at 0x1348bc590>"
      ]
     },
     "execution_count": 8,
     "metadata": {},
     "output_type": "execute_result"
    }
   ],
   "source": [
    "vectorstore = Chroma.from_documents(documents=splits, embedding=OpenAIEmbeddings(model='text-embedding-3-small'))\n",
    "vectorstore"
   ]
  },
  {
   "cell_type": "markdown",
   "metadata": {},
   "source": [
    "### Step 4: Setup Retriever"
   ]
  },
  {
   "cell_type": "code",
   "execution_count": 9,
   "metadata": {},
   "outputs": [
    {
     "data": {
      "text/plain": [
       "VectorStoreRetriever(tags=['Chroma', 'OpenAIEmbeddings'], vectorstore=<langchain_chroma.vectorstores.Chroma object at 0x1348bc590>, search_kwargs={})"
      ]
     },
     "execution_count": 9,
     "metadata": {},
     "output_type": "execute_result"
    }
   ],
   "source": [
    "retriever = vectorstore.as_retriever()\n",
    "retriever"
   ]
  },
  {
   "cell_type": "markdown",
   "metadata": {},
   "source": [
    "### Step 5: Setup RAG Prompt Template"
   ]
  },
  {
   "cell_type": "code",
   "execution_count": 10,
   "metadata": {},
   "outputs": [],
   "source": [
    "rag_prompt = ChatPromptTemplate.from_messages([\n",
    "    (\"system\", \"You are an assistant for question-answering tasks. Use the following pieces of retrieved context to answer the question. If you don't know the answer, just say that you don't know. Use three sentences maximum and keep the answer concise.\"),\n",
    "    (\"user\", \"context: {context}\\n\\nquestion: {question}\")    \n",
    "])\n",
    "\n",
    "def format_docs(docs):\n",
    "    return \"\\n\\n\".join(doc.page_content for doc in docs)"
   ]
  },
  {
   "cell_type": "markdown",
   "metadata": {},
   "source": [
    "### Step 6: Create RAG Chain"
   ]
  },
  {
   "cell_type": "code",
   "execution_count": 11,
   "metadata": {},
   "outputs": [],
   "source": [
    "rag_chain = (\n",
    "    {\"context\": retriever | format_docs, \"question\": RunnablePassthrough()}\n",
    "    | rag_prompt\n",
    "    | llm\n",
    "    | StrOutputParser()\n",
    ")"
   ]
  },
  {
   "cell_type": "code",
   "execution_count": 12,
   "metadata": {},
   "outputs": [
    {
     "data": {
      "text/plain": [
       "'Sound waves are classified as longitudinal waves. They are characterized by the motion of particles in the medium, which move back and forth about their position of rest.'"
      ]
     },
     "execution_count": 12,
     "metadata": {},
     "output_type": "execute_result"
    }
   ],
   "source": [
    "rag_chain.invoke(\"What kind of wave is Sound Wave?\")"
   ]
  },
  {
   "cell_type": "markdown",
   "metadata": {},
   "source": [
    "# Assignment Part 2"
   ]
  },
  {
   "cell_type": "code",
   "execution_count": 13,
   "metadata": {},
   "outputs": [],
   "source": [
    "from langchain_openai import ChatOpenAI\n",
    "from langchain_core.messages import SystemMessage, HumanMessage, RemoveMessage\n",
    "from langchain.tools import tool\n",
    "from langchain_community.tools import TavilySearchResults\n",
    "from pydantic import BaseModel, Field\n",
    "\n",
    "from IPython.display import Image, display\n",
    "from langgraph.graph import StateGraph, START, END\n",
    "from langgraph.graph import MessagesState\n",
    "from langgraph.prebuilt import ToolNode\n",
    "from langgraph.prebuilt import tools_condition\n",
    "from langgraph.checkpoint.memory import MemorySaver"
   ]
  },
  {
   "cell_type": "markdown",
   "metadata": {},
   "source": [
    "### Step 1: Create Tools"
   ]
  },
  {
   "cell_type": "code",
   "execution_count": 14,
   "metadata": {},
   "outputs": [
    {
     "name": "stdout",
     "output_type": "stream",
     "text": [
      "rag_tool\n",
      "Invokes the RAG chain To Provide an Answer to the User's Query\n",
      "{'user_query': {'description': \"The user's input query to use for RAG\", 'title': 'User Query', 'type': 'string'}}\n",
      "True\n"
     ]
    }
   ],
   "source": [
    "# Create Rag Chain as a Tool\n",
    "\n",
    "class RagTool(BaseModel):\n",
    "    user_query: str = Field(description=\"The user's input query to use for RAG\")\n",
    "\n",
    "\n",
    "@tool(\"rag_tool\", args_schema=RagTool, return_direct=True)\n",
    "def rag_tool(user_query: str) -> str:\n",
    "    ''' Invokes the RAG chain To Provide an Answer to the User's Query'''\n",
    "    response = rag_chain.invoke(user_query)\n",
    "    return response\n",
    "\n",
    "print(rag_tool.name)\n",
    "print(rag_tool.description)\n",
    "print(rag_tool.args)\n",
    "print(rag_tool.return_direct)\n"
   ]
  },
  {
   "cell_type": "code",
   "execution_count": 15,
   "metadata": {},
   "outputs": [
    {
     "name": "stdout",
     "output_type": "stream",
     "text": [
      "web_search_tool\n",
      "Runs a web search to provide an answer based on the user's query\n",
      "{'user_query': {'description': \"The user's input query to use for Web Search\", 'title': 'User Query', 'type': 'string'}}\n",
      "True\n"
     ]
    }
   ],
   "source": [
    "# Create a Web Search Tool\n",
    "\n",
    "class WebSearch(BaseModel):\n",
    "    user_query: str = Field(description=\"The user's input query to use for Web Search\")\n",
    "    \n",
    "@tool(\"web_search_tool\", args_schema= WebSearch, return_direct=True)\n",
    "def web_search_tool(user_query: str) -> str:\n",
    "    ''' Runs a web search to provide an answer based on the user's query '''\n",
    "    search = TavilySearchResults(\n",
    "        max_results = 5,\n",
    "        search_depth = \"advanced\",\n",
    "        include_answer=True,\n",
    "        include_raw_content=True,\n",
    "        include_images=True\n",
    "    )\n",
    "    \n",
    "    results = search.invoke({\"query\":user_query})\n",
    "    \n",
    "    return {\"messages\": results}\n",
    "\n",
    "print(web_search_tool.name)\n",
    "print(web_search_tool.description)\n",
    "print(web_search_tool.args)\n",
    "print(web_search_tool.return_direct)"
   ]
  },
  {
   "cell_type": "code",
   "execution_count": 16,
   "metadata": {},
   "outputs": [],
   "source": [
    "tools = [rag_tool, web_search_tool]\n",
    "llm_with_tools = llm.bind_tools(tools)"
   ]
  },
  {
   "cell_type": "markdown",
   "metadata": {},
   "source": [
    "### Step 2: Create a Robust System Message for the Agent"
   ]
  },
  {
   "cell_type": "code",
   "execution_count": 17,
   "metadata": {},
   "outputs": [],
   "source": [
    "# Create a System Message\n",
    "\n",
    "sys_msg = SystemMessage(content=\n",
    "    \"\"\"You are an AI assistant capable of answering questions using two tools provided to you:\n",
    "    \n",
    "        1. **Retrieval-Augmented Generation (RAG) Pipeline Tool**:\n",
    "        - You have access to a pre-configured RAG pipeline, which is capable of retrieving relevant information about a document containing information on the topic of 'Sound'.\n",
    "        - If the user's input is related to the topic of 'Sound', trigger the RAG tool.\n",
    "\n",
    "        2. **Tavily Web Search Tool**:\n",
    "        - You can use the Tavily web search tool to fetch real-time information from the web for any queries not covered by the RAG pipeline, such as current events, general knowledge, or even topics unrelated to 'Sound'.\n",
    "\n",
    "    Deciding when to invoke a tool:\n",
    "    - Use the **RAG Pipeline Tool** if the user's input is related to 'Sound'.\n",
    "    - Use the **Tavily Web Search Tool** if the user's query is about 'Sound' that the document in RAG pipeline does not cover or requires real-time or broader web-based information.\n",
    "    \n",
    "    Do not hallucinate your answer. Use the tools provided to provide the best answer possible to the user's query.\n",
    "\n",
    "    User Question: \"{user_query}\"\"\"\n",
    ")\n"
   ]
  },
  {
   "cell_type": "markdown",
   "metadata": {},
   "source": [
    "### Step 3: Create an Assistant Node"
   ]
  },
  {
   "cell_type": "code",
   "execution_count": 18,
   "metadata": {},
   "outputs": [],
   "source": [
    "# Create Assistant Node\n",
    "\n",
    "def assistant(state: MessagesState):\n",
    "    response = llm_with_tools.invoke([sys_msg] + state[\"messages\"]) # The input our system message plus a dictionary `{\"messages\": state[\"messages\"]}`, which sets the initial value for our state dict.\n",
    "    return {\"messages\": response}\n",
    "    "
   ]
  },
  {
   "cell_type": "markdown",
   "metadata": {},
   "source": [
    "### Step 4: Build Graph"
   ]
  },
  {
   "cell_type": "code",
   "execution_count": 19,
   "metadata": {},
   "outputs": [
    {
     "data": {
      "image/jpeg": "[encoded data removed]",
      "text/plain": [
       "<IPython.core.display.Image object>"
      ]
     },
     "metadata": {},
     "output_type": "display_data"
    }
   ],
   "source": [
    "builder = StateGraph(MessagesState)\n",
    "\n",
    "# Define Nodes\n",
    "builder.add_node(\"assistant\", assistant)\n",
    "builder.add_node(\"tools\", ToolNode(tools))\n",
    "\n",
    "# Add Edges\n",
    "builder.add_edge(START, \"assistant\")\n",
    "builder.add_edge(\"assistant\", \"tools\")\n",
    "builder.add_edge(\"tools\", END)\n",
    "\n",
    "\n",
    "graph = builder.compile(checkpointer=MemorySaver())\n",
    "\n",
    "# Show\n",
    "display(Image(graph.get_graph(xray=True).draw_mermaid_png()))"
   ]
  },
  {
   "cell_type": "code",
   "execution_count": 20,
   "metadata": {},
   "outputs": [],
   "source": [
    "response = graph.invoke({\"messages\": HumanMessage(content=\"Hi\")}, {\"configurable\": {\"thread_id\": \"1\"}})"
   ]
  },
  {
   "cell_type": "code",
   "execution_count": 21,
   "metadata": {},
   "outputs": [
    {
     "name": "stdout",
     "output_type": "stream",
     "text": [
      "Hi\n",
      "Hello! How can I assist you today?\n"
     ]
    }
   ],
   "source": [
    "for message in response['messages']:\n",
    "    print(message.content)"
   ]
  },
  {
   "cell_type": "code",
   "execution_count": 22,
   "metadata": {},
   "outputs": [
    {
     "name": "stdout",
     "output_type": "stream",
     "text": [
      "================================\u001b[1m Human Message \u001b[0m=================================\n",
      "\n",
      "Hi\n",
      "==================================\u001b[1m Ai Message \u001b[0m==================================\n",
      "\n",
      "Hello! How can I assist you today?\n",
      "================================\u001b[1m Human Message \u001b[0m=================================\n",
      "\n",
      "How does the sound produced by a vibrating object in a medium reach your ear\n",
      "==================================\u001b[1m Ai Message \u001b[0m==================================\n",
      "Tool Calls:\n",
      "  rag_tool (call_Z3kZh81UzZaecRpqlEeQIBlW)\n",
      " Call ID: call_Z3kZh81UzZaecRpqlEeQIBlW\n",
      "  Args:\n",
      "    user_query: How does the sound produced by a vibrating object in a medium reach your ear?\n",
      "=================================\u001b[1m Tool Message \u001b[0m=================================\n",
      "Name: rag_tool\n",
      "\n",
      "The sound produced by a vibrating object in a medium reaches your ear through the vibration of particles in that medium. When the object vibrates, it displaces nearby particles, creating density and pressure variations that travel through the medium. These variations continue to propagate until they reach your ear, allowing you to hear the sound.\n"
     ]
    }
   ],
   "source": [
    "response = graph.invoke({\"messages\": HumanMessage(content=\"How does the sound produced by a vibrating object in a medium reach your ear\")}, {\"configurable\": {\"thread_id\": \"1\"}})\n",
    "for message in response['messages']:\n",
    "    message.pretty_print()"
   ]
  },
  {
   "cell_type": "markdown",
   "metadata": {},
   "source": [
    "### Step 5: Create FASTAPI Endpoint"
   ]
  },
  {
   "cell_type": "code",
   "execution_count": 23,
   "metadata": {},
   "outputs": [],
   "source": [
    "# FASTAPI POST endpoint to handle user queries\n",
    "\n",
    "class QueryRequest(BaseModel):\n",
    "    user_query: str\n"
   ]
  },
  {
   "cell_type": "code",
   "execution_count": 24,
   "metadata": {},
   "outputs": [],
   "source": [
    "@app.post(\"/query\")\n",
    "async def handle_query(query: QueryRequest):\n",
    "    try:\n",
    "        user_input = HumanMessage(content=query.user_query)\n",
    "        response = graph.invoke({\"messages\": user_input}, {\"configurable\": {\"thread_id\": \"1\"}})\n",
    "        response_messages = [message.content for message in response[\"messages\"]]\n",
    "        return response_messages\n",
    "\n",
    "    except Exception as e:\n",
    "        raise HTTPException(status_code=500, detail=str(e))\n",
    "    \n",
    "        "
   ]
  },
  {
   "cell_type": "code",
   "execution_count": 25,
   "metadata": {},
   "outputs": [],
   "source": [
    "# Function to run the FastAPI server\n",
    "async def run_fastapi():\n",
    "    config = uvicorn.Config(app=app, host=\"0.0.0.0\", port=8000, log_level=\"info\")\n",
    "    server = uvicorn.Server(config)\n",
    "    await server.serve()"
   ]
  },
  {
   "cell_type": "code",
   "execution_count": 28,
   "metadata": {},
   "outputs": [
    {
     "data": {
      "text/plain": [
       "<Task pending name='Task-1' coro=<Server.serve() running at /opt/anaconda3/envs/sarvam_env/lib/python3.11/site-packages/uvicorn/server.py:67>>"
      ]
     },
     "execution_count": 28,
     "metadata": {},
     "output_type": "execute_result"
    },
    {
     "name": "stderr",
     "output_type": "stream",
     "text": [
      "INFO:     Started server process [41514]\n",
      "INFO:     Waiting for application startup.\n",
      "INFO:     Application startup complete.\n",
      "INFO:     Uvicorn running on http://0.0.0.0:8000 (Press CTRL+C to quit)\n"
     ]
    },
    {
     "name": "stdout",
     "output_type": "stream",
     "text": [
      "INFO:     127.0.0.1:49430 - \"POST /query HTTP/1.1\" 200 OK\n"
     ]
    }
   ],
   "source": [
    "# Run the FastAPI app in Jupyter\n",
    "config = uvicorn.Config(app=app, host=\"0.0.0.0\", port=8000, log_level=\"info\")\n",
    "server = uvicorn.Server(config)\n",
    "\n",
    "loop = asyncio.get_event_loop()\n",
    "loop.create_task(server.serve())"
   ]
  },
  {
   "cell_type": "code",
   "execution_count": 27,
   "metadata": {},
   "outputs": [],
   "source": [
    "# Run this in the terminal \n",
    "# curl -X POST \"http://localhost:8000/query\" -H \"Content-Type: application/json\" -d '{\"user_query\": \"What is sound?\"}'\n"
   ]
  },
  {
   "cell_type": "code",
   "execution_count": null,
   "metadata": {},
   "outputs": [],
   "source": []
  }
 ],
 "metadata": {
  "kernelspec": {
   "display_name": "Python 3",
   "language": "python",
   "name": "python3"
  },
  "language_info": {
   "codemirror_mode": {
    "name": "ipython",
    "version": 3
   },
   "file_extension": ".py",
   "mimetype": "text/x-python",
   "name": "python",
   "nbconvert_exporter": "python",
   "pygments_lexer": "ipython3",
   "version": "3.11.10"
  }
 },
 "nbformat": 4,
 "nbformat_minor": 2
}
